{
  "nbformat": 4,
  "nbformat_minor": 0,
  "metadata": {
    "colab": {
      "name": "Copy of sambit mohanty - Assignment6_Credit_Risk_Logistic_Reg_Model_Questions.ipynb",
      "provenance": [],
      "collapsed_sections": [],
      "toc_visible": true
    },
    "kernelspec": {
      "name": "python3",
      "display_name": "Python 3"
    }
  },
  "cells": [
    {
      "cell_type": "code",
      "metadata": {
        "id": "LGOXKhrYqC8U"
      },
      "source": [
        "import pandas as pd\n",
        "\n",
        "Bank  = pd.read_csv(\"https://raw.githubusercontent.com/venkatareddykonasani/Datasets/master/Credit_Risk_Cleaned/Cleaned_cs_training.csv\")"
      ],
      "execution_count": null,
      "outputs": []
    },
    {
      "cell_type": "code",
      "metadata": {
        "id": "dKLKMosGqDG7",
        "colab": {
          "base_uri": "https://localhost:8080/",
          "height": 503
        },
        "outputId": "5759c197-9996-47d4-cd50-3e98bbc8eb6c"
      },
      "source": [
        "Bank.head().T\n"
      ],
      "execution_count": null,
      "outputs": [
        {
          "output_type": "execute_result",
          "data": {
            "text/html": [
              "<div>\n",
              "<style scoped>\n",
              "    .dataframe tbody tr th:only-of-type {\n",
              "        vertical-align: middle;\n",
              "    }\n",
              "\n",
              "    .dataframe tbody tr th {\n",
              "        vertical-align: top;\n",
              "    }\n",
              "\n",
              "    .dataframe thead th {\n",
              "        text-align: right;\n",
              "    }\n",
              "</style>\n",
              "<table border=\"1\" class=\"dataframe\">\n",
              "  <thead>\n",
              "    <tr style=\"text-align: right;\">\n",
              "      <th></th>\n",
              "      <th>0</th>\n",
              "      <th>1</th>\n",
              "      <th>2</th>\n",
              "      <th>3</th>\n",
              "      <th>4</th>\n",
              "    </tr>\n",
              "  </thead>\n",
              "  <tbody>\n",
              "    <tr>\n",
              "      <th>Sr_No</th>\n",
              "      <td>3.000000</td>\n",
              "      <td>4.00000</td>\n",
              "      <td>5.000000</td>\n",
              "      <td>7.000000</td>\n",
              "      <td>8.000000</td>\n",
              "    </tr>\n",
              "    <tr>\n",
              "      <th>SeriousDlqin2yrs</th>\n",
              "      <td>0.000000</td>\n",
              "      <td>0.00000</td>\n",
              "      <td>0.000000</td>\n",
              "      <td>0.000000</td>\n",
              "      <td>0.000000</td>\n",
              "    </tr>\n",
              "    <tr>\n",
              "      <th>util_new</th>\n",
              "      <td>0.658180</td>\n",
              "      <td>0.23381</td>\n",
              "      <td>0.907239</td>\n",
              "      <td>0.305682</td>\n",
              "      <td>0.754464</td>\n",
              "    </tr>\n",
              "    <tr>\n",
              "      <th>age_new</th>\n",
              "      <td>38.000000</td>\n",
              "      <td>30.00000</td>\n",
              "      <td>49.000000</td>\n",
              "      <td>57.000000</td>\n",
              "      <td>39.000000</td>\n",
              "    </tr>\n",
              "    <tr>\n",
              "      <th>num_30_59_dpd_new</th>\n",
              "      <td>1.000000</td>\n",
              "      <td>0.00000</td>\n",
              "      <td>1.000000</td>\n",
              "      <td>0.000000</td>\n",
              "      <td>0.000000</td>\n",
              "    </tr>\n",
              "    <tr>\n",
              "      <th>DebtRatio_new_ind</th>\n",
              "      <td>0.000000</td>\n",
              "      <td>0.00000</td>\n",
              "      <td>0.000000</td>\n",
              "      <td>1.000000</td>\n",
              "      <td>0.000000</td>\n",
              "    </tr>\n",
              "    <tr>\n",
              "      <th>DebtRatio_new</th>\n",
              "      <td>0.085113</td>\n",
              "      <td>0.03605</td>\n",
              "      <td>0.024926</td>\n",
              "      <td>0.366508</td>\n",
              "      <td>0.209940</td>\n",
              "    </tr>\n",
              "    <tr>\n",
              "      <th>MonthlyIncome_ind</th>\n",
              "      <td>1.000000</td>\n",
              "      <td>1.00000</td>\n",
              "      <td>1.000000</td>\n",
              "      <td>0.000000</td>\n",
              "      <td>1.000000</td>\n",
              "    </tr>\n",
              "    <tr>\n",
              "      <th>MonthlyIncome_new</th>\n",
              "      <td>3042.000000</td>\n",
              "      <td>3300.00000</td>\n",
              "      <td>5400.000000</td>\n",
              "      <td>5400.000000</td>\n",
              "      <td>3500.000000</td>\n",
              "    </tr>\n",
              "    <tr>\n",
              "      <th>Open_Credit_lines_new</th>\n",
              "      <td>2.000000</td>\n",
              "      <td>5.00000</td>\n",
              "      <td>7.000000</td>\n",
              "      <td>8.000000</td>\n",
              "      <td>8.000000</td>\n",
              "    </tr>\n",
              "    <tr>\n",
              "      <th>num_90_dpd_new</th>\n",
              "      <td>1.000000</td>\n",
              "      <td>0.00000</td>\n",
              "      <td>0.000000</td>\n",
              "      <td>0.000000</td>\n",
              "      <td>0.000000</td>\n",
              "    </tr>\n",
              "    <tr>\n",
              "      <th>Real_estate_loans_new</th>\n",
              "      <td>0.000000</td>\n",
              "      <td>0.00000</td>\n",
              "      <td>1.000000</td>\n",
              "      <td>3.000000</td>\n",
              "      <td>0.000000</td>\n",
              "    </tr>\n",
              "    <tr>\n",
              "      <th>num_60_dpd_new</th>\n",
              "      <td>0.000000</td>\n",
              "      <td>0.00000</td>\n",
              "      <td>0.000000</td>\n",
              "      <td>0.000000</td>\n",
              "      <td>0.000000</td>\n",
              "    </tr>\n",
              "    <tr>\n",
              "      <th>NumberOfDependents_new</th>\n",
              "      <td>0.000000</td>\n",
              "      <td>0.00000</td>\n",
              "      <td>0.000000</td>\n",
              "      <td>0.000000</td>\n",
              "      <td>0.000000</td>\n",
              "    </tr>\n",
              "  </tbody>\n",
              "</table>\n",
              "</div>"
            ],
            "text/plain": [
              "                                  0           1  ...            3            4\n",
              "Sr_No                      3.000000     4.00000  ...     7.000000     8.000000\n",
              "SeriousDlqin2yrs           0.000000     0.00000  ...     0.000000     0.000000\n",
              "util_new                   0.658180     0.23381  ...     0.305682     0.754464\n",
              "age_new                   38.000000    30.00000  ...    57.000000    39.000000\n",
              "num_30_59_dpd_new          1.000000     0.00000  ...     0.000000     0.000000\n",
              "DebtRatio_new_ind          0.000000     0.00000  ...     1.000000     0.000000\n",
              "DebtRatio_new              0.085113     0.03605  ...     0.366508     0.209940\n",
              "MonthlyIncome_ind          1.000000     1.00000  ...     0.000000     1.000000\n",
              "MonthlyIncome_new       3042.000000  3300.00000  ...  5400.000000  3500.000000\n",
              "Open_Credit_lines_new      2.000000     5.00000  ...     8.000000     8.000000\n",
              "num_90_dpd_new             1.000000     0.00000  ...     0.000000     0.000000\n",
              "Real_estate_loans_new      0.000000     0.00000  ...     3.000000     0.000000\n",
              "num_60_dpd_new             0.000000     0.00000  ...     0.000000     0.000000\n",
              "NumberOfDependents_new     0.000000     0.00000  ...     0.000000     0.000000\n",
              "\n",
              "[14 rows x 5 columns]"
            ]
          },
          "metadata": {
            "tags": []
          },
          "execution_count": 3
        }
      ]
    },
    {
      "cell_type": "code",
      "metadata": {
        "id": "iLJLANYCc5R0",
        "colab": {
          "base_uri": "https://localhost:8080/",
          "height": 374
        },
        "outputId": "16eafdaf-6d1c-47d3-9cca-9370ade84b6b"
      },
      "source": [
        "Bank.info()"
      ],
      "execution_count": null,
      "outputs": [
        {
          "output_type": "stream",
          "text": [
            "<class 'pandas.core.frame.DataFrame'>\n",
            "RangeIndex: 150000 entries, 0 to 149999\n",
            "Data columns (total 14 columns):\n",
            " #   Column                  Non-Null Count   Dtype  \n",
            "---  ------                  --------------   -----  \n",
            " 0   Sr_No                   150000 non-null  int64  \n",
            " 1   SeriousDlqin2yrs        150000 non-null  int64  \n",
            " 2   util_new                150000 non-null  float64\n",
            " 3   age_new                 150000 non-null  int64  \n",
            " 4   num_30_59_dpd_new       150000 non-null  int64  \n",
            " 5   DebtRatio_new_ind       150000 non-null  int64  \n",
            " 6   DebtRatio_new           150000 non-null  float64\n",
            " 7   MonthlyIncome_ind       150000 non-null  int64  \n",
            " 8   MonthlyIncome_new       150000 non-null  int64  \n",
            " 9   Open_Credit_lines_new   150000 non-null  int64  \n",
            " 10  num_90_dpd_new          150000 non-null  int64  \n",
            " 11  Real_estate_loans_new   150000 non-null  int64  \n",
            " 12  num_60_dpd_new          150000 non-null  int64  \n",
            " 13  NumberOfDependents_new  150000 non-null  int64  \n",
            "dtypes: float64(2), int64(12)\n",
            "memory usage: 16.0 MB\n"
          ],
          "name": "stdout"
        }
      ]
    },
    {
      "cell_type": "code",
      "metadata": {
        "id": "jYM8P_j2YlGF",
        "colab": {
          "base_uri": "https://localhost:8080/",
          "height": 51
        },
        "outputId": "b3fdb926-cffe-41b7-aa30-dacdc8a5f60d"
      },
      "source": [
        "print(Bank[\"MonthlyIncome_ind\"].isnull().sum())\n",
        "print(Bank[\"DebtRatio_new_ind\"].isnull().sum())"
      ],
      "execution_count": null,
      "outputs": [
        {
          "output_type": "stream",
          "text": [
            "0\n",
            "0\n"
          ],
          "name": "stdout"
        }
      ]
    },
    {
      "cell_type": "code",
      "metadata": {
        "id": "qC6VFpb4qD1C",
        "colab": {
          "base_uri": "https://localhost:8080/",
          "height": 71
        },
        "outputId": "4366ae9d-cb46-412b-f27f-588e8d184358"
      },
      "source": [
        "import seaborn as sns"
      ],
      "execution_count": null,
      "outputs": [
        {
          "output_type": "stream",
          "text": [
            "/usr/local/lib/python3.6/dist-packages/statsmodels/tools/_testing.py:19: FutureWarning: pandas.util.testing is deprecated. Use the functions in the public API at pandas.testing instead.\n",
            "  import pandas.util.testing as tm\n"
          ],
          "name": "stderr"
        }
      ]
    },
    {
      "cell_type": "code",
      "metadata": {
        "id": "UuGABkvFMLFp",
        "colab": {
          "base_uri": "https://localhost:8080/",
          "height": 296
        },
        "outputId": "1f83c223-e345-4b51-fba9-d694e95be92b"
      },
      "source": [
        "sns.countplot(x=\"SeriousDlqin2yrs\",data=Bank) #Target column"
      ],
      "execution_count": null,
      "outputs": [
        {
          "output_type": "execute_result",
          "data": {
            "text/plain": [
              "<matplotlib.axes._subplots.AxesSubplot at 0x7f6f393898d0>"
            ]
          },
          "metadata": {
            "tags": []
          },
          "execution_count": 7
        },
        {
          "output_type": "display_data",
          "data": {
            "image/png": "[encoded data removed]",
            "text/plain": [
              "<Figure size 432x288 with 1 Axes>"
            ]
          },
          "metadata": {
            "tags": [],
            "needs_background": "light"
          }
        }
      ]
    },
    {
      "cell_type": "code",
      "metadata": {
        "id": "cDytXMlCMLOK",
        "colab": {
          "base_uri": "https://localhost:8080/",
          "height": 527
        },
        "outputId": "11eb72fb-9342-4a42-bb0c-e1d278f1675d"
      },
      "source": [
        "Bank[\"age_new\"].quantile([0.01,0.02,0.03,0.04,0.05,0.05,0.06,0.07,0.08,0.09,0.1,0.2,0.3,0.4,0.5,0.6,0.7,0.8,0.9,0.91,0.92,0.93,0.94,0.95,0.96,0.97,0.98,0.99,1])"
      ],
      "execution_count": null,
      "outputs": [
        {
          "output_type": "execute_result",
          "data": {
            "text/plain": [
              "0.01    24.0\n",
              "0.02    25.0\n",
              "0.03    27.0\n",
              "0.04    28.0\n",
              "0.05    29.0\n",
              "0.05    29.0\n",
              "0.06    30.0\n",
              "0.07    30.0\n",
              "0.08    31.0\n",
              "0.09    32.0\n",
              "0.10    33.0\n",
              "0.20    39.0\n",
              "0.30    44.0\n",
              "0.40    48.0\n",
              "0.50    52.0\n",
              "0.60    56.0\n",
              "0.70    60.0\n",
              "0.80    65.0\n",
              "0.90    72.0\n",
              "0.91    73.0\n",
              "0.92    74.0\n",
              "0.93    75.0\n",
              "0.94    76.0\n",
              "0.95    77.0\n",
              "0.96    79.0\n",
              "0.97    80.0\n",
              "0.98    83.0\n",
              "0.99    86.0\n",
              "1.00    90.0\n",
              "Name: age_new, dtype: float64"
            ]
          },
          "metadata": {
            "tags": []
          },
          "execution_count": 8
        }
      ]
    },
    {
      "cell_type": "code",
      "metadata": {
        "id": "a8E2LjuSRzTZ",
        "colab": {
          "base_uri": "https://localhost:8080/",
          "height": 296
        },
        "outputId": "dacb7714-2e0c-4772-b614-a3841ef0e50c"
      },
      "source": [
        "sns.boxplot(x=Bank[\"SeriousDlqin2yrs\"],y=Bank[\"age_new\"])"
      ],
      "execution_count": null,
      "outputs": [
        {
          "output_type": "execute_result",
          "data": {
            "text/plain": [
              "<matplotlib.axes._subplots.AxesSubplot at 0x7f6f392cb2b0>"
            ]
          },
          "metadata": {
            "tags": []
          },
          "execution_count": 9
        },
        {
          "output_type": "display_data",
          "data": {
            "image/png": "[encoded data removed]",
            "text/plain": [
              "<Figure size 432x288 with 1 Axes>"
            ]
          },
          "metadata": {
            "tags": [],
            "needs_background": "light"
          }
        }
      ]
    },
    {
      "cell_type": "code",
      "metadata": {
        "id": "v8YBZmhGMLRp",
        "colab": {
          "base_uri": "https://localhost:8080/",
          "height": 527
        },
        "outputId": "be30e420-4479-418d-defe-1bfce9c59bbf"
      },
      "source": [
        "Bank[\"num_30_59_dpd_new\"].quantile([0.01,0.02,0.03,0.04,0.05,0.05,0.06,0.07,0.08,0.09,0.1,0.2,0.3,0.4,0.5,0.6,0.7,0.8,0.9,0.91,0.92,0.93,0.94,0.95,0.96,0.97,0.98,0.99,1])"
      ],
      "execution_count": null,
      "outputs": [
        {
          "output_type": "execute_result",
          "data": {
            "text/plain": [
              "0.01     0.0\n",
              "0.02     0.0\n",
              "0.03     0.0\n",
              "0.04     0.0\n",
              "0.05     0.0\n",
              "0.05     0.0\n",
              "0.06     0.0\n",
              "0.07     0.0\n",
              "0.08     0.0\n",
              "0.09     0.0\n",
              "0.10     0.0\n",
              "0.20     0.0\n",
              "0.30     0.0\n",
              "0.40     0.0\n",
              "0.50     0.0\n",
              "0.60     0.0\n",
              "0.70     0.0\n",
              "0.80     0.0\n",
              "0.90     1.0\n",
              "0.91     1.0\n",
              "0.92     1.0\n",
              "0.93     1.0\n",
              "0.94     1.0\n",
              "0.95     2.0\n",
              "0.96     2.0\n",
              "0.97     2.0\n",
              "0.98     3.0\n",
              "0.99     4.0\n",
              "1.00    12.0\n",
              "Name: num_30_59_dpd_new, dtype: float64"
            ]
          },
          "metadata": {
            "tags": []
          },
          "execution_count": 10
        }
      ]
    },
    {
      "cell_type": "code",
      "metadata": {
        "id": "thaTxjFDMLI4",
        "colab": {
          "base_uri": "https://localhost:8080/",
          "height": 255
        },
        "outputId": "19084fff-e5da-4791-ccbd-a7f6bc4659fd"
      },
      "source": [
        "Bank[\"num_30_59_dpd_new\"].value_counts()"
      ],
      "execution_count": null,
      "outputs": [
        {
          "output_type": "execute_result",
          "data": {
            "text/plain": [
              "0     126018\n",
              "1      16033\n",
              "2       4598\n",
              "3       1754\n",
              "4        747\n",
              "6        410\n",
              "5        342\n",
              "7         54\n",
              "8         25\n",
              "9         12\n",
              "10         4\n",
              "12         2\n",
              "11         1\n",
              "Name: num_30_59_dpd_new, dtype: int64"
            ]
          },
          "metadata": {
            "tags": []
          },
          "execution_count": 11
        }
      ]
    },
    {
      "cell_type": "code",
      "metadata": {
        "id": "21eCu3j7qLkc",
        "colab": {
          "base_uri": "https://localhost:8080/",
          "height": 296
        },
        "outputId": "e862f715-bbab-4679-9401-b10772372896"
      },
      "source": [
        "sns.boxplot(x=Bank[\"SeriousDlqin2yrs\"],y=Bank[\"Open_Credit_lines_new\"])"
      ],
      "execution_count": null,
      "outputs": [
        {
          "output_type": "execute_result",
          "data": {
            "text/plain": [
              "<matplotlib.axes._subplots.AxesSubplot at 0x7f6f38e031d0>"
            ]
          },
          "metadata": {
            "tags": []
          },
          "execution_count": 12
        },
        {
          "output_type": "display_data",
          "data": {
            "image/png": "[encoded data removed]",
            "text/plain": [
              "<Figure size 432x288 with 1 Axes>"
            ]
          },
          "metadata": {
            "tags": [],
            "needs_background": "light"
          }
        }
      ]
    },
    {
      "cell_type": "code",
      "metadata": {
        "id": "BpY0SuPwSErU",
        "colab": {
          "base_uri": "https://localhost:8080/",
          "height": 391
        },
        "outputId": "343f7c60-459a-4a82-81ea-aa4e72ff41c2"
      },
      "source": [
        "Bank[\"Open_Credit_lines_new\"].value_counts(sort=True)"
      ],
      "execution_count": null,
      "outputs": [
        {
          "output_type": "execute_result",
          "data": {
            "text/plain": [
              "8     16542\n",
              "6     13614\n",
              "7     13245\n",
              "5     12931\n",
              "4     11609\n",
              "9     11355\n",
              "10     9624\n",
              "3      9058\n",
              "11     8321\n",
              "12     7005\n",
              "2      6666\n",
              "13     5667\n",
              "14     4546\n",
              "1      4438\n",
              "15     3645\n",
              "16     3000\n",
              "17     2370\n",
              "0      1888\n",
              "18     1874\n",
              "19     1433\n",
              "20     1169\n",
              "Name: Open_Credit_lines_new, dtype: int64"
            ]
          },
          "metadata": {
            "tags": []
          },
          "execution_count": 13
        }
      ]
    },
    {
      "cell_type": "code",
      "metadata": {
        "id": "6YEQwMehSEyw",
        "colab": {
          "base_uri": "https://localhost:8080/",
          "height": 119
        },
        "outputId": "12c7946b-8611-452c-e8fa-f2d6a880fbd4"
      },
      "source": [
        "Bank[\"Real_estate_loans_new\"].value_counts(sort=False)"
      ],
      "execution_count": null,
      "outputs": [
        {
          "output_type": "execute_result",
          "data": {
            "text/plain": [
              "0    56188\n",
              "1    53820\n",
              "2    31522\n",
              "3     6300\n",
              "4     2170\n",
              "Name: Real_estate_loans_new, dtype: int64"
            ]
          },
          "metadata": {
            "tags": []
          },
          "execution_count": 14
        }
      ]
    },
    {
      "cell_type": "code",
      "metadata": {
        "id": "x34yy7-MStX8",
        "colab": {
          "base_uri": "https://localhost:8080/",
          "height": 297
        },
        "outputId": "02e72a91-6b36-4932-cc84-a76d3fa31777"
      },
      "source": [
        "sns.countplot(x=\"Real_estate_loans_new\",data=Bank)"
      ],
      "execution_count": null,
      "outputs": [
        {
          "output_type": "execute_result",
          "data": {
            "text/plain": [
              "<matplotlib.axes._subplots.AxesSubplot at 0x7f6f38d1a898>"
            ]
          },
          "metadata": {
            "tags": []
          },
          "execution_count": 15
        },
        {
          "output_type": "display_data",
          "data": {
            "image/png": "[encoded data removed]",
            "text/plain": [
              "<Figure size 432x288 with 1 Axes>"
            ]
          },
          "metadata": {
            "tags": [],
            "needs_background": "light"
          }
        }
      ]
    },
    {
      "cell_type": "code",
      "metadata": {
        "id": "0TH9NSZSS9mp",
        "colab": {
          "base_uri": "https://localhost:8080/",
          "height": 221
        },
        "outputId": "680c8b4b-f83d-464d-90f4-87d1a7ed504f"
      },
      "source": [
        "Bank[\"num_60_dpd_new\"].value_counts(sort=False)"
      ],
      "execution_count": null,
      "outputs": [
        {
          "output_type": "execute_result",
          "data": {
            "text/plain": [
              "0     142396\n",
              "1       5731\n",
              "2       1118\n",
              "3        587\n",
              "4        105\n",
              "5         34\n",
              "6         16\n",
              "7          9\n",
              "8          2\n",
              "9          1\n",
              "11         1\n",
              "Name: num_60_dpd_new, dtype: int64"
            ]
          },
          "metadata": {
            "tags": []
          },
          "execution_count": 16
        }
      ]
    },
    {
      "cell_type": "code",
      "metadata": {
        "id": "rOnuInfqS9o1",
        "colab": {
          "base_uri": "https://localhost:8080/",
          "height": 297
        },
        "outputId": "36762c8c-4aa5-4b5e-da3e-5c6339ee2b59"
      },
      "source": [
        "sns.countplot(x=\"NumberOfDependents_new\",data=Bank)"
      ],
      "execution_count": null,
      "outputs": [
        {
          "output_type": "execute_result",
          "data": {
            "text/plain": [
              "<matplotlib.axes._subplots.AxesSubplot at 0x7f6f38cf1b00>"
            ]
          },
          "metadata": {
            "tags": []
          },
          "execution_count": 17
        },
        {
          "output_type": "display_data",
          "data": {
            "image/png": "[encoded data removed]",
            "text/plain": [
              "<Figure size 432x288 with 1 Axes>"
            ]
          },
          "metadata": {
            "tags": [],
            "needs_background": "light"
          }
        }
      ]
    },
    {
      "cell_type": "code",
      "metadata": {
        "id": "i44v3ET4qO4d",
        "colab": {
          "base_uri": "https://localhost:8080/",
          "height": 527
        },
        "outputId": "dba6094f-cf50-404b-a1f5-770bd5a71d36"
      },
      "source": [
        "Bank[\"util_new\"].quantile([0.01,0.02,0.03,0.04,0.05,0.05,0.06,0.07,0.08,0.09,0.1,0.2,0.3,0.4,0.5,0.6,0.7,0.8,0.9,0.91,0.92,0.93,0.94,0.95,0.96,0.97,0.98,0.99,1])"
      ],
      "execution_count": null,
      "outputs": [
        {
          "output_type": "execute_result",
          "data": {
            "text/plain": [
              "0.01    0.000000\n",
              "0.02    0.000000\n",
              "0.03    0.000000\n",
              "0.04    0.000000\n",
              "0.05    0.000000\n",
              "0.05    0.000000\n",
              "0.06    0.000000\n",
              "0.07    0.000000\n",
              "0.08    0.000708\n",
              "0.09    0.001733\n",
              "0.10    0.002969\n",
              "0.20    0.019222\n",
              "0.30    0.043461\n",
              "0.40    0.083181\n",
              "0.50    0.154178\n",
              "0.60    0.241406\n",
              "0.70    0.401448\n",
              "0.80    0.634723\n",
              "0.90    0.930559\n",
              "0.91    0.954839\n",
              "0.92    0.976737\n",
              "0.93    0.997500\n",
              "0.94    1.000000\n",
              "0.95    1.000000\n",
              "0.96    1.000000\n",
              "0.97    1.000000\n",
              "0.98    1.000000\n",
              "0.99    1.000000\n",
              "1.00    1.000000\n",
              "Name: util_new, dtype: float64"
            ]
          },
          "metadata": {
            "tags": []
          },
          "execution_count": 18
        }
      ]
    },
    {
      "cell_type": "code",
      "metadata": {
        "id": "CEgIQsGAqO8Y",
        "colab": {
          "base_uri": "https://localhost:8080/",
          "height": 297
        },
        "outputId": "52c2d2f1-4f6f-4bf2-8050-0c3120ec4dd9"
      },
      "source": [
        "sns.boxplot(x=\"util_new\",data=Bank)"
      ],
      "execution_count": null,
      "outputs": [
        {
          "output_type": "execute_result",
          "data": {
            "text/plain": [
              "<matplotlib.axes._subplots.AxesSubplot at 0x7f6f173b1da0>"
            ]
          },
          "metadata": {
            "tags": []
          },
          "execution_count": 80
        },
        {
          "output_type": "display_data",
          "data": {
            "image/png": "[encoded data removed]",
            "text/plain": [
              "<Figure size 432x288 with 1 Axes>"
            ]
          },
          "metadata": {
            "tags": [],
            "needs_background": "light"
          }
        }
      ]
    },
    {
      "cell_type": "code",
      "metadata": {
        "id": "NooEgjaSUSiE",
        "colab": {
          "base_uri": "https://localhost:8080/",
          "height": 527
        },
        "outputId": "f248df20-3900-4ba9-efa2-64c574583116"
      },
      "source": [
        "Bank[\"DebtRatio_new\"].quantile([0.01,0.02,0.03,0.04,0.05,0.05,0.06,0.07,0.08,0.09,0.1,0.2,0.3,0.4,0.5,0.6,0.7,0.8,0.9,0.91,0.92,0.93,0.94,0.95,0.96,0.97,0.98,0.99,1])"
      ],
      "execution_count": null,
      "outputs": [
        {
          "output_type": "execute_result",
          "data": {
            "text/plain": [
              "0.01    0.000000\n",
              "0.02    0.000000\n",
              "0.03    0.000480\n",
              "0.04    0.002278\n",
              "0.05    0.004329\n",
              "0.05    0.004329\n",
              "0.06    0.006799\n",
              "0.07    0.009997\n",
              "0.08    0.014780\n",
              "0.09    0.021249\n",
              "0.10    0.030874\n",
              "0.20    0.133773\n",
              "0.30    0.213697\n",
              "0.40    0.287460\n",
              "0.50    0.366506\n",
              "0.60    0.366508\n",
              "0.70    0.366508\n",
              "0.80    0.428984\n",
              "0.90    0.568251\n",
              "0.91    0.589328\n",
              "0.92    0.612568\n",
              "0.93    0.637872\n",
              "0.94    0.664785\n",
              "0.95    0.696102\n",
              "0.96    0.734062\n",
              "0.97    0.779912\n",
              "0.98    0.838234\n",
              "0.99    0.913862\n",
              "1.00    1.000000\n",
              "Name: DebtRatio_new, dtype: float64"
            ]
          },
          "metadata": {
            "tags": []
          },
          "execution_count": 20
        }
      ]
    },
    {
      "cell_type": "code",
      "metadata": {
        "id": "R_wxt_RCUSlP",
        "colab": {
          "base_uri": "https://localhost:8080/",
          "height": 296
        },
        "outputId": "91fbdce9-529d-4d2d-bfb7-06cd823f2411"
      },
      "source": [
        "sns.boxplot(x=Bank[\"SeriousDlqin2yrs\"],y=Bank['DebtRatio_new'])"
      ],
      "execution_count": null,
      "outputs": [
        {
          "output_type": "execute_result",
          "data": {
            "text/plain": [
              "<matplotlib.axes._subplots.AxesSubplot at 0x7f6f38bdae10>"
            ]
          },
          "metadata": {
            "tags": []
          },
          "execution_count": 21
        },
        {
          "output_type": "display_data",
          "data": {
            "image/png": "[encoded data removed]",
            "text/plain": [
              "<Figure size 432x288 with 1 Axes>"
            ]
          },
          "metadata": {
            "tags": [],
            "needs_background": "light"
          }
        }
      ]
    },
    {
      "cell_type": "code",
      "metadata": {
        "id": "gU6cQhgCVpgc",
        "colab": {
          "base_uri": "https://localhost:8080/",
          "height": 527
        },
        "outputId": "56dc9606-d9fe-4f17-bda3-3e3b64697fd5"
      },
      "source": [
        "Bank[\"MonthlyIncome_new\"].quantile([0.01,0.02,0.03,0.04,0.05,0.05,0.06,0.07,0.08,0.09,0.1,0.2,0.3,0.4,0.5,0.6,0.7,0.8,0.9,0.91,0.92,0.93,0.94,0.95,0.96,0.97,0.98,0.99,1])"
      ],
      "execution_count": null,
      "outputs": [
        {
          "output_type": "execute_result",
          "data": {
            "text/plain": [
              "0.01        0.00\n",
              "0.02      600.00\n",
              "0.03     1000.00\n",
              "0.04     1300.00\n",
              "0.05     1500.00\n",
              "0.05     1500.00\n",
              "0.06     1702.94\n",
              "0.07     1917.00\n",
              "0.08     2000.00\n",
              "0.09     2200.00\n",
              "0.10     2325.00\n",
              "0.20     3400.00\n",
              "0.30     4333.00\n",
              "0.40     5400.00\n",
              "0.50     5400.00\n",
              "0.60     5400.00\n",
              "0.70     6424.30\n",
              "0.80     8000.00\n",
              "0.90    10400.00\n",
              "0.91    10528.18\n",
              "0.92    11000.00\n",
              "0.93    11433.00\n",
              "0.94    12000.00\n",
              "0.95    12500.00\n",
              "0.96    13166.00\n",
              "0.97    14100.00\n",
              "0.98    15300.00\n",
              "0.99    17000.00\n",
              "1.00    20000.00\n",
              "Name: MonthlyIncome_new, dtype: float64"
            ]
          },
          "metadata": {
            "tags": []
          },
          "execution_count": 22
        }
      ]
    },
    {
      "cell_type": "code",
      "metadata": {
        "id": "5XMncYfIVpkA",
        "colab": {
          "base_uri": "https://localhost:8080/",
          "height": 296
        },
        "outputId": "c2be403c-6572-4f2c-a2cd-7017c108c5f2"
      },
      "source": [
        "sns.boxplot(y=Bank[\"MonthlyIncome_new\"],x=Bank[\"SeriousDlqin2yrs\"])"
      ],
      "execution_count": null,
      "outputs": [
        {
          "output_type": "execute_result",
          "data": {
            "text/plain": [
              "<matplotlib.axes._subplots.AxesSubplot at 0x7f6f38c68c50>"
            ]
          },
          "metadata": {
            "tags": []
          },
          "execution_count": 23
        },
        {
          "output_type": "display_data",
          "data": {
            "image/png": "[encoded data removed]",
            "text/plain": [
              "<Figure size 432x288 with 1 Axes>"
            ]
          },
          "metadata": {
            "tags": [],
            "needs_background": "light"
          }
        }
      ]
    },
    {
      "cell_type": "code",
      "metadata": {
        "id": "o0JLQjCj2CAK",
        "colab": {
          "base_uri": "https://localhost:8080/",
          "height": 527
        },
        "outputId": "52db0b7a-12be-4dc6-fa50-e41b508ea716"
      },
      "source": [
        "Bank[\"num_60_dpd_new\"].quantile([0.01,0.02,0.03,0.04,0.05,0.05,0.06,0.07,0.08,0.09,0.1,0.2,0.3,0.4,0.5,0.6,0.7,0.8,0.9,0.91,0.92,0.93,0.94,0.95,0.96,0.97,0.98,0.99,1])"
      ],
      "execution_count": null,
      "outputs": [
        {
          "output_type": "execute_result",
          "data": {
            "text/plain": [
              "0.01     0.0\n",
              "0.02     0.0\n",
              "0.03     0.0\n",
              "0.04     0.0\n",
              "0.05     0.0\n",
              "0.05     0.0\n",
              "0.06     0.0\n",
              "0.07     0.0\n",
              "0.08     0.0\n",
              "0.09     0.0\n",
              "0.10     0.0\n",
              "0.20     0.0\n",
              "0.30     0.0\n",
              "0.40     0.0\n",
              "0.50     0.0\n",
              "0.60     0.0\n",
              "0.70     0.0\n",
              "0.80     0.0\n",
              "0.90     0.0\n",
              "0.91     0.0\n",
              "0.92     0.0\n",
              "0.93     0.0\n",
              "0.94     0.0\n",
              "0.95     1.0\n",
              "0.96     1.0\n",
              "0.97     1.0\n",
              "0.98     1.0\n",
              "0.99     2.0\n",
              "1.00    11.0\n",
              "Name: num_60_dpd_new, dtype: float64"
            ]
          },
          "metadata": {
            "tags": []
          },
          "execution_count": 24
        }
      ]
    },
    {
      "cell_type": "code",
      "metadata": {
        "id": "BweuPNec2B9m",
        "colab": {
          "base_uri": "https://localhost:8080/",
          "height": 527
        },
        "outputId": "8bb5fe46-3a07-4bad-968f-e81e606cee59"
      },
      "source": [
        "Bank[\"num_90_dpd_new\"].quantile([0.01,0.02,0.03,0.04,0.05,0.05,0.06,0.07,0.08,0.09,0.1,0.2,0.3,0.4,0.5,0.6,0.7,0.8,0.9,0.91,0.92,0.93,0.94,0.95,0.96,0.97,0.98,0.99,1])\n"
      ],
      "execution_count": null,
      "outputs": [
        {
          "output_type": "execute_result",
          "data": {
            "text/plain": [
              "0.01     0.0\n",
              "0.02     0.0\n",
              "0.03     0.0\n",
              "0.04     0.0\n",
              "0.05     0.0\n",
              "0.05     0.0\n",
              "0.06     0.0\n",
              "0.07     0.0\n",
              "0.08     0.0\n",
              "0.09     0.0\n",
              "0.10     0.0\n",
              "0.20     0.0\n",
              "0.30     0.0\n",
              "0.40     0.0\n",
              "0.50     0.0\n",
              "0.60     0.0\n",
              "0.70     0.0\n",
              "0.80     0.0\n",
              "0.90     0.0\n",
              "0.91     0.0\n",
              "0.92     0.0\n",
              "0.93     0.0\n",
              "0.94     0.0\n",
              "0.95     1.0\n",
              "0.96     1.0\n",
              "0.97     1.0\n",
              "0.98     2.0\n",
              "0.99     3.0\n",
              "1.00    12.0\n",
              "Name: num_90_dpd_new, dtype: float64"
            ]
          },
          "metadata": {
            "tags": []
          },
          "execution_count": 25
        }
      ]
    },
    {
      "cell_type": "code",
      "metadata": {
        "id": "Ub0IxRdzS2FL",
        "colab": {
          "base_uri": "https://localhost:8080/",
          "height": 503
        },
        "outputId": "f2678a6c-82e6-43bb-b616-1e803cae5c38"
      },
      "source": [
        "Bank.head().T"
      ],
      "execution_count": null,
      "outputs": [
        {
          "output_type": "execute_result",
          "data": {
            "text/html": [
              "<div>\n",
              "<style scoped>\n",
              "    .dataframe tbody tr th:only-of-type {\n",
              "        vertical-align: middle;\n",
              "    }\n",
              "\n",
              "    .dataframe tbody tr th {\n",
              "        vertical-align: top;\n",
              "    }\n",
              "\n",
              "    .dataframe thead th {\n",
              "        text-align: right;\n",
              "    }\n",
              "</style>\n",
              "<table border=\"1\" class=\"dataframe\">\n",
              "  <thead>\n",
              "    <tr style=\"text-align: right;\">\n",
              "      <th></th>\n",
              "      <th>0</th>\n",
              "      <th>1</th>\n",
              "      <th>2</th>\n",
              "      <th>3</th>\n",
              "      <th>4</th>\n",
              "    </tr>\n",
              "  </thead>\n",
              "  <tbody>\n",
              "    <tr>\n",
              "      <th>Sr_No</th>\n",
              "      <td>3.000000</td>\n",
              "      <td>4.00000</td>\n",
              "      <td>5.000000</td>\n",
              "      <td>7.000000</td>\n",
              "      <td>8.000000</td>\n",
              "    </tr>\n",
              "    <tr>\n",
              "      <th>SeriousDlqin2yrs</th>\n",
              "      <td>0.000000</td>\n",
              "      <td>0.00000</td>\n",
              "      <td>0.000000</td>\n",
              "      <td>0.000000</td>\n",
              "      <td>0.000000</td>\n",
              "    </tr>\n",
              "    <tr>\n",
              "      <th>util_new</th>\n",
              "      <td>0.658180</td>\n",
              "      <td>0.23381</td>\n",
              "      <td>0.907239</td>\n",
              "      <td>0.305682</td>\n",
              "      <td>0.754464</td>\n",
              "    </tr>\n",
              "    <tr>\n",
              "      <th>age_new</th>\n",
              "      <td>38.000000</td>\n",
              "      <td>30.00000</td>\n",
              "      <td>49.000000</td>\n",
              "      <td>57.000000</td>\n",
              "      <td>39.000000</td>\n",
              "    </tr>\n",
              "    <tr>\n",
              "      <th>num_30_59_dpd_new</th>\n",
              "      <td>1.000000</td>\n",
              "      <td>0.00000</td>\n",
              "      <td>1.000000</td>\n",
              "      <td>0.000000</td>\n",
              "      <td>0.000000</td>\n",
              "    </tr>\n",
              "    <tr>\n",
              "      <th>DebtRatio_new_ind</th>\n",
              "      <td>0.000000</td>\n",
              "      <td>0.00000</td>\n",
              "      <td>0.000000</td>\n",
              "      <td>1.000000</td>\n",
              "      <td>0.000000</td>\n",
              "    </tr>\n",
              "    <tr>\n",
              "      <th>DebtRatio_new</th>\n",
              "      <td>0.085113</td>\n",
              "      <td>0.03605</td>\n",
              "      <td>0.024926</td>\n",
              "      <td>0.366508</td>\n",
              "      <td>0.209940</td>\n",
              "    </tr>\n",
              "    <tr>\n",
              "      <th>MonthlyIncome_ind</th>\n",
              "      <td>1.000000</td>\n",
              "      <td>1.00000</td>\n",
              "      <td>1.000000</td>\n",
              "      <td>0.000000</td>\n",
              "      <td>1.000000</td>\n",
              "    </tr>\n",
              "    <tr>\n",
              "      <th>MonthlyIncome_new</th>\n",
              "      <td>3042.000000</td>\n",
              "      <td>3300.00000</td>\n",
              "      <td>5400.000000</td>\n",
              "      <td>5400.000000</td>\n",
              "      <td>3500.000000</td>\n",
              "    </tr>\n",
              "    <tr>\n",
              "      <th>Open_Credit_lines_new</th>\n",
              "      <td>2.000000</td>\n",
              "      <td>5.00000</td>\n",
              "      <td>7.000000</td>\n",
              "      <td>8.000000</td>\n",
              "      <td>8.000000</td>\n",
              "    </tr>\n",
              "    <tr>\n",
              "      <th>num_90_dpd_new</th>\n",
              "      <td>1.000000</td>\n",
              "      <td>0.00000</td>\n",
              "      <td>0.000000</td>\n",
              "      <td>0.000000</td>\n",
              "      <td>0.000000</td>\n",
              "    </tr>\n",
              "    <tr>\n",
              "      <th>Real_estate_loans_new</th>\n",
              "      <td>0.000000</td>\n",
              "      <td>0.00000</td>\n",
              "      <td>1.000000</td>\n",
              "      <td>3.000000</td>\n",
              "      <td>0.000000</td>\n",
              "    </tr>\n",
              "    <tr>\n",
              "      <th>num_60_dpd_new</th>\n",
              "      <td>0.000000</td>\n",
              "      <td>0.00000</td>\n",
              "      <td>0.000000</td>\n",
              "      <td>0.000000</td>\n",
              "      <td>0.000000</td>\n",
              "    </tr>\n",
              "    <tr>\n",
              "      <th>NumberOfDependents_new</th>\n",
              "      <td>0.000000</td>\n",
              "      <td>0.00000</td>\n",
              "      <td>0.000000</td>\n",
              "      <td>0.000000</td>\n",
              "      <td>0.000000</td>\n",
              "    </tr>\n",
              "  </tbody>\n",
              "</table>\n",
              "</div>"
            ],
            "text/plain": [
              "                                  0           1  ...            3            4\n",
              "Sr_No                      3.000000     4.00000  ...     7.000000     8.000000\n",
              "SeriousDlqin2yrs           0.000000     0.00000  ...     0.000000     0.000000\n",
              "util_new                   0.658180     0.23381  ...     0.305682     0.754464\n",
              "age_new                   38.000000    30.00000  ...    57.000000    39.000000\n",
              "num_30_59_dpd_new          1.000000     0.00000  ...     0.000000     0.000000\n",
              "DebtRatio_new_ind          0.000000     0.00000  ...     1.000000     0.000000\n",
              "DebtRatio_new              0.085113     0.03605  ...     0.366508     0.209940\n",
              "MonthlyIncome_ind          1.000000     1.00000  ...     0.000000     1.000000\n",
              "MonthlyIncome_new       3042.000000  3300.00000  ...  5400.000000  3500.000000\n",
              "Open_Credit_lines_new      2.000000     5.00000  ...     8.000000     8.000000\n",
              "num_90_dpd_new             1.000000     0.00000  ...     0.000000     0.000000\n",
              "Real_estate_loans_new      0.000000     0.00000  ...     3.000000     0.000000\n",
              "num_60_dpd_new             0.000000     0.00000  ...     0.000000     0.000000\n",
              "NumberOfDependents_new     0.000000     0.00000  ...     0.000000     0.000000\n",
              "\n",
              "[14 rows x 5 columns]"
            ]
          },
          "metadata": {
            "tags": []
          },
          "execution_count": 62
        }
      ]
    },
    {
      "cell_type": "code",
      "metadata": {
        "id": "uYDHNnVFrKyt"
      },
      "source": [
        "import sklearn as sk\n",
        "from sklearn import linear_model\n",
        "import statsmodels.formula.api as sm\n",
        "from sklearn.linear_model import LinearRegression\n",
        "from sklearn.linear_model import LogisticRegression\n",
        "logistic = LogisticRegression()\n",
        "lr = LinearRegression()"
      ],
      "execution_count": null,
      "outputs": []
    },
    {
      "cell_type": "code",
      "metadata": {
        "id": "g6qyuGN6BnaP"
      },
      "source": [
        "def ols_formula(df, dependent_var, *excluded_cols):\n",
        "    '''\n",
        "    Generates the R style formula for statsmodels (patsy) given\n",
        "    the dataframe, dependent variable and optional excluded columns\n",
        "    as strings\n",
        "    '''\n",
        "    df_columns = list(df.columns.values)\n",
        "    df_columns.remove(dependent_var)\n",
        "    for col in excluded_cols:\n",
        "        df_columns.remove(col)\n",
        "    return dependent_var + ' ~ ' + ' + '.join(df_columns)"
      ],
      "execution_count": null,
      "outputs": []
    },
    {
      "cell_type": "code",
      "metadata": {
        "id": "Gzh41KJVB5HF",
        "colab": {
          "base_uri": "https://localhost:8080/",
          "height": 69
        },
        "outputId": "cdc118d3-ef01-4485-a6bf-cee0db5d22e4"
      },
      "source": [
        "Model_ols = ols_formula(Bank.iloc[:,1:],dependent_var=\"SeriousDlqin2yrs\")\n",
        "Model_ols"
      ],
      "execution_count": null,
      "outputs": [
        {
          "output_type": "execute_result",
          "data": {
            "application/vnd.google.colaboratory.intrinsic+json": {
              "type": "string"
            },
            "text/plain": [
              "'SeriousDlqin2yrs ~ util_new + age_new + num_30_59_dpd_new + DebtRatio_new_ind + DebtRatio_new + MonthlyIncome_ind + MonthlyIncome_new + Open_Credit_lines_new + num_90_dpd_new + Real_estate_loans_new + num_60_dpd_new + NumberOfDependents_new'"
            ]
          },
          "metadata": {
            "tags": []
          },
          "execution_count": 28
        }
      ]
    },
    {
      "cell_type": "code",
      "metadata": {
        "id": "x8AoKGVwERWn",
        "colab": {
          "base_uri": "https://localhost:8080/",
          "height": 530
        },
        "outputId": "f8ee91ed-e84b-4593-99f6-3cf5c5837848"
      },
      "source": [
        "og_model  = sm.logit(Model_ols, data=Bank)\n",
        "result = og_model.fit()\n",
        "result.summary()"
      ],
      "execution_count": null,
      "outputs": [
        {
          "output_type": "stream",
          "text": [
            "Optimization terminated successfully.\n",
            "         Current function value: 0.193444\n",
            "         Iterations 8\n"
          ],
          "name": "stdout"
        },
        {
          "output_type": "execute_result",
          "data": {
            "text/html": [
              "<table class=\"simpletable\">\n",
              "<caption>Logit Regression Results</caption>\n",
              "<tr>\n",
              "  <th>Dep. Variable:</th>   <td>SeriousDlqin2yrs</td> <th>  No. Observations:  </th>  <td>150000</td> \n",
              "</tr>\n",
              "<tr>\n",
              "  <th>Model:</th>                 <td>Logit</td>      <th>  Df Residuals:      </th>  <td>149987</td> \n",
              "</tr>\n",
              "<tr>\n",
              "  <th>Method:</th>                 <td>MLE</td>       <th>  Df Model:          </th>  <td>    12</td> \n",
              "</tr>\n",
              "<tr>\n",
              "  <th>Date:</th>            <td>Sat, 12 Sep 2020</td> <th>  Pseudo R-squ.:     </th>  <td>0.2117</td> \n",
              "</tr>\n",
              "<tr>\n",
              "  <th>Time:</th>                <td>16:42:00</td>     <th>  Log-Likelihood:    </th> <td> -29017.</td>\n",
              "</tr>\n",
              "<tr>\n",
              "  <th>converged:</th>             <td>True</td>       <th>  LL-Null:           </th> <td> -36808.</td>\n",
              "</tr>\n",
              "<tr>\n",
              "  <th>Covariance Type:</th>     <td>nonrobust</td>    <th>  LLR p-value:       </th>  <td> 0.000</td> \n",
              "</tr>\n",
              "</table>\n",
              "<table class=\"simpletable\">\n",
              "<tr>\n",
              "             <td></td>               <th>coef</th>     <th>std err</th>      <th>z</th>      <th>P>|z|</th>  <th>[0.025</th>    <th>0.975]</th>  \n",
              "</tr>\n",
              "<tr>\n",
              "  <th>Intercept</th>              <td>   -3.5074</td> <td>    0.080</td> <td>  -43.799</td> <td> 0.000</td> <td>   -3.664</td> <td>   -3.350</td>\n",
              "</tr>\n",
              "<tr>\n",
              "  <th>util_new</th>               <td>    1.4764</td> <td>    0.033</td> <td>   44.414</td> <td> 0.000</td> <td>    1.411</td> <td>    1.542</td>\n",
              "</tr>\n",
              "<tr>\n",
              "  <th>age_new</th>                <td>   -0.0192</td> <td>    0.001</td> <td>  -20.566</td> <td> 0.000</td> <td>   -0.021</td> <td>   -0.017</td>\n",
              "</tr>\n",
              "<tr>\n",
              "  <th>num_30_59_dpd_new</th>      <td>    0.4364</td> <td>    0.011</td> <td>   39.272</td> <td> 0.000</td> <td>    0.415</td> <td>    0.458</td>\n",
              "</tr>\n",
              "<tr>\n",
              "  <th>DebtRatio_new_ind</th>      <td>    0.4078</td> <td>    0.046</td> <td>    8.821</td> <td> 0.000</td> <td>    0.317</td> <td>    0.498</td>\n",
              "</tr>\n",
              "<tr>\n",
              "  <th>DebtRatio_new</th>          <td>    0.7831</td> <td>    0.067</td> <td>   11.734</td> <td> 0.000</td> <td>    0.652</td> <td>    0.914</td>\n",
              "</tr>\n",
              "<tr>\n",
              "  <th>MonthlyIncome_ind</th>      <td>    0.4513</td> <td>    0.053</td> <td>    8.579</td> <td> 0.000</td> <td>    0.348</td> <td>    0.554</td>\n",
              "</tr>\n",
              "<tr>\n",
              "  <th>MonthlyIncome_new</th>      <td>-1.874e-05</td> <td>  4.5e-06</td> <td>   -4.162</td> <td> 0.000</td> <td>-2.76e-05</td> <td>-9.92e-06</td>\n",
              "</tr>\n",
              "<tr>\n",
              "  <th>Open_Credit_lines_new</th>  <td>    0.0188</td> <td>    0.003</td> <td>    5.869</td> <td> 0.000</td> <td>    0.013</td> <td>    0.025</td>\n",
              "</tr>\n",
              "<tr>\n",
              "  <th>num_90_dpd_new</th>         <td>    0.7149</td> <td>    0.016</td> <td>   43.541</td> <td> 0.000</td> <td>    0.683</td> <td>    0.747</td>\n",
              "</tr>\n",
              "<tr>\n",
              "  <th>Real_estate_loans_new</th>  <td>   -0.0828</td> <td>    0.016</td> <td>   -5.096</td> <td> 0.000</td> <td>   -0.115</td> <td>   -0.051</td>\n",
              "</tr>\n",
              "<tr>\n",
              "  <th>num_60_dpd_new</th>         <td>    0.5795</td> <td>    0.023</td> <td>   25.640</td> <td> 0.000</td> <td>    0.535</td> <td>    0.624</td>\n",
              "</tr>\n",
              "<tr>\n",
              "  <th>NumberOfDependents_new</th> <td>    0.0574</td> <td>    0.010</td> <td>    5.697</td> <td> 0.000</td> <td>    0.038</td> <td>    0.077</td>\n",
              "</tr>\n",
              "</table>"
            ],
            "text/plain": [
              "<class 'statsmodels.iolib.summary.Summary'>\n",
              "\"\"\"\n",
              "                           Logit Regression Results                           \n",
              "==============================================================================\n",
              "Dep. Variable:       SeriousDlqin2yrs   No. Observations:               150000\n",
              "Model:                          Logit   Df Residuals:                   149987\n",
              "Method:                           MLE   Df Model:                           12\n",
              "Date:                Sat, 12 Sep 2020   Pseudo R-squ.:                  0.2117\n",
              "Time:                        16:42:00   Log-Likelihood:                -29017.\n",
              "converged:                       True   LL-Null:                       -36808.\n",
              "Covariance Type:            nonrobust   LLR p-value:                     0.000\n",
              "==========================================================================================\n",
              "                             coef    std err          z      P>|z|      [0.025      0.975]\n",
              "------------------------------------------------------------------------------------------\n",
              "Intercept                 -3.5074      0.080    -43.799      0.000      -3.664      -3.350\n",
              "util_new                   1.4764      0.033     44.414      0.000       1.411       1.542\n",
              "age_new                   -0.0192      0.001    -20.566      0.000      -0.021      -0.017\n",
              "num_30_59_dpd_new          0.4364      0.011     39.272      0.000       0.415       0.458\n",
              "DebtRatio_new_ind          0.4078      0.046      8.821      0.000       0.317       0.498\n",
              "DebtRatio_new              0.7831      0.067     11.734      0.000       0.652       0.914\n",
              "MonthlyIncome_ind          0.4513      0.053      8.579      0.000       0.348       0.554\n",
              "MonthlyIncome_new      -1.874e-05    4.5e-06     -4.162      0.000   -2.76e-05   -9.92e-06\n",
              "Open_Credit_lines_new      0.0188      0.003      5.869      0.000       0.013       0.025\n",
              "num_90_dpd_new             0.7149      0.016     43.541      0.000       0.683       0.747\n",
              "Real_estate_loans_new     -0.0828      0.016     -5.096      0.000      -0.115      -0.051\n",
              "num_60_dpd_new             0.5795      0.023     25.640      0.000       0.535       0.624\n",
              "NumberOfDependents_new     0.0574      0.010      5.697      0.000       0.038       0.077\n",
              "==========================================================================================\n",
              "\"\"\""
            ]
          },
          "metadata": {
            "tags": []
          },
          "execution_count": 29
        }
      ]
    },
    {
      "cell_type": "code",
      "metadata": {
        "id": "_O7CDu9QrOT8",
        "colab": {
          "base_uri": "https://localhost:8080/",
          "height": 207
        },
        "outputId": "d607e9ec-42a7-4df5-f9a4-faa9b7617f50"
      },
      "source": [
        "model_1 = logistic.fit(Bank[[\"util_new\"] + [\"age_new\"] + [\"num_30_59_dpd_new\"] + [\"DebtRatio_new\"] + [\"MonthlyIncome_new\"] + [\"Open_Credit_lines_new\"] + [\"num_90_dpd_new\"] +  [\"Real_estate_loans_new\"] + [\"DebtRatio_new_ind\"] + [\"MonthlyIncome_ind\"] + [\"num_60_dpd_new\"] + [\"NumberOfDependents_new\"]], Bank[[\"SeriousDlqin2yrs\"]])\n",
        "\n"
      ],
      "execution_count": null,
      "outputs": [
        {
          "output_type": "stream",
          "text": [
            "/usr/local/lib/python3.6/dist-packages/sklearn/utils/validation.py:760: DataConversionWarning: A column-vector y was passed when a 1d array was expected. Please change the shape of y to (n_samples, ), for example using ravel().\n",
            "  y = column_or_1d(y, warn=True)\n",
            "/usr/local/lib/python3.6/dist-packages/sklearn/linear_model/_logistic.py:940: ConvergenceWarning: lbfgs failed to converge (status=1):\n",
            "STOP: TOTAL NO. of ITERATIONS REACHED LIMIT.\n",
            "\n",
            "Increase the number of iterations (max_iter) or scale the data as shown in:\n",
            "    https://scikit-learn.org/stable/modules/preprocessing.html\n",
            "Please also refer to the documentation for alternative solver options:\n",
            "    https://scikit-learn.org/stable/modules/linear_model.html#logistic-regression\n",
            "  extra_warning_msg=_LOGISTIC_SOLVER_CONVERGENCE_MSG)\n"
          ],
          "name": "stderr"
        }
      ]
    },
    {
      "cell_type": "code",
      "metadata": {
        "id": "xO3-SREQMNck",
        "colab": {
          "base_uri": "https://localhost:8080/",
          "height": 85
        },
        "outputId": "a78a62ae-80ad-4fed-a00e-7d6f1c095e27"
      },
      "source": [
        "print(\"intercept\", logistic.intercept_)\n",
        "print(\"coefficient\", logistic.coef_)"
      ],
      "execution_count": null,
      "outputs": [
        {
          "output_type": "stream",
          "text": [
            "intercept [-0.35340527]\n",
            "coefficient [[ 4.25273794e-01 -5.03556206e-02  5.16972415e-01  3.63166988e-02\n",
            "  -8.03369207e-05  2.11361679e-02  8.54678260e-01  8.85309792e-02\n",
            "  -3.83719446e-02 -2.73277775e-01  5.30604794e-01 -8.79915603e-02]]\n"
          ],
          "name": "stdout"
        }
      ]
    },
    {
      "cell_type": "code",
      "metadata": {
        "id": "SRe8-yozNqOX"
      },
      "source": [
        "prediction = result.predict()"
      ],
      "execution_count": null,
      "outputs": []
    },
    {
      "cell_type": "code",
      "metadata": {
        "id": "w7tj7qitMnhQ"
      },
      "source": [
        "prediction_class = [0 if x < .5 else 1 for x in prediction]"
      ],
      "execution_count": null,
      "outputs": []
    },
    {
      "cell_type": "code",
      "metadata": {
        "id": "-OJ1FplDMnk3",
        "colab": {
          "base_uri": "https://localhost:8080/",
          "height": 238
        },
        "outputId": "39e75985-4959-496b-9ac6-43543d393682"
      },
      "source": [
        "from sklearn.metrics import classification_report, confusion_matrix\n",
        "print(classification_report(Bank[\"SeriousDlqin2yrs\"], prediction_class))\n",
        "print(\"\\n \",\"confusion matrix:\")\n",
        "CM=confusion_matrix(Bank[\"SeriousDlqin2yrs\"],prediction_class)\n",
        "print(CM)"
      ],
      "execution_count": null,
      "outputs": [
        {
          "output_type": "stream",
          "text": [
            "              precision    recall  f1-score   support\n",
            "\n",
            "           0       0.94      0.99      0.97    139974\n",
            "           1       0.60      0.15      0.24     10026\n",
            "\n",
            "    accuracy                           0.94    150000\n",
            "   macro avg       0.77      0.57      0.60    150000\n",
            "weighted avg       0.92      0.94      0.92    150000\n",
            "\n",
            "\n",
            "  confusion matrix:\n",
            "[[138965   1009]\n",
            " [  8526   1500]]\n"
          ],
          "name": "stdout"
        }
      ]
    },
    {
      "cell_type": "code",
      "metadata": {
        "id": "gI5IOXFkQB7t",
        "colab": {
          "base_uri": "https://localhost:8080/",
          "height": 34
        },
        "outputId": "0e68e578-577e-43bf-fa9a-8e259b42e8df"
      },
      "source": [
        "accuracy = (CM[0,0]+CM[1,1]) / (sum(sum(CM)))\n",
        "accuracy*100"
      ],
      "execution_count": null,
      "outputs": [
        {
          "output_type": "execute_result",
          "data": {
            "text/plain": [
              "93.64333333333333"
            ]
          },
          "metadata": {
            "tags": []
          },
          "execution_count": 49
        }
      ]
    },
    {
      "cell_type": "code",
      "metadata": {
        "id": "LLCgVks_rLel"
      },
      "source": [
        "import statsmodels.formula.api as sm\n",
        "\n",
        "def vif_cal(input_data, dependent_col):\n",
        "    x_vars=input_data.drop([dependent_col], axis=1)\n",
        "    xvar_names=x_vars.columns\n",
        "    for i in range(0,xvar_names.shape[0]):\n",
        "        y=x_vars[xvar_names[i]] \n",
        "        x=x_vars[xvar_names.drop(xvar_names[i])]\n",
        "        rsq=sm.ols(formula=\"y~x\", data=x_vars).fit().rsquared  \n",
        "        vif=round(1/(1-rsq),2)\n",
        "        print (xvar_names[i], \" VIF = \" , vif)"
      ],
      "execution_count": null,
      "outputs": []
    },
    {
      "cell_type": "code",
      "metadata": {
        "id": "FPZmqrZWrPkr",
        "colab": {
          "base_uri": "https://localhost:8080/",
          "height": 238
        },
        "outputId": "b09c98df-6444-40b6-c3d8-7fe0681ba8a9"
      },
      "source": [
        "vif_cal(input_data = Bank, dependent_col= \"SeriousDlqin2yrs\")"
      ],
      "execution_count": null,
      "outputs": [
        {
          "output_type": "stream",
          "text": [
            "Sr_No  VIF =  1.0\n",
            "util_new  VIF =  1.19\n",
            "age_new  VIF =  1.16\n",
            "num_30_59_dpd_new  VIF =  1.25\n",
            "DebtRatio_new_ind  VIF =  3.56\n",
            "DebtRatio_new  VIF =  1.51\n",
            "MonthlyIncome_ind  VIF =  3.56\n",
            "MonthlyIncome_new  VIF =  1.39\n",
            "Open_Credit_lines_new  VIF =  1.39\n",
            "num_90_dpd_new  VIF =  1.22\n",
            "Real_estate_loans_new  VIF =  1.68\n",
            "num_60_dpd_new  VIF =  1.28\n",
            "NumberOfDependents_new  VIF =  1.12\n"
          ],
          "name": "stdout"
        }
      ]
    },
    {
      "cell_type": "code",
      "metadata": {
        "id": "Lup1rPpuRcyl",
        "colab": {
          "base_uri": "https://localhost:8080/",
          "height": 479
        },
        "outputId": "d22df3f7-6405-4b49-ca7b-525c6b4ad3b9"
      },
      "source": [
        "result.summary()"
      ],
      "execution_count": null,
      "outputs": [
        {
          "output_type": "execute_result",
          "data": {
            "text/html": [
              "<table class=\"simpletable\">\n",
              "<caption>Logit Regression Results</caption>\n",
              "<tr>\n",
              "  <th>Dep. Variable:</th>   <td>SeriousDlqin2yrs</td> <th>  No. Observations:  </th>  <td>150000</td> \n",
              "</tr>\n",
              "<tr>\n",
              "  <th>Model:</th>                 <td>Logit</td>      <th>  Df Residuals:      </th>  <td>149987</td> \n",
              "</tr>\n",
              "<tr>\n",
              "  <th>Method:</th>                 <td>MLE</td>       <th>  Df Model:          </th>  <td>    12</td> \n",
              "</tr>\n",
              "<tr>\n",
              "  <th>Date:</th>            <td>Sat, 12 Sep 2020</td> <th>  Pseudo R-squ.:     </th>  <td>0.2117</td> \n",
              "</tr>\n",
              "<tr>\n",
              "  <th>Time:</th>                <td>17:03:56</td>     <th>  Log-Likelihood:    </th> <td> -29017.</td>\n",
              "</tr>\n",
              "<tr>\n",
              "  <th>converged:</th>             <td>True</td>       <th>  LL-Null:           </th> <td> -36808.</td>\n",
              "</tr>\n",
              "<tr>\n",
              "  <th>Covariance Type:</th>     <td>nonrobust</td>    <th>  LLR p-value:       </th>  <td> 0.000</td> \n",
              "</tr>\n",
              "</table>\n",
              "<table class=\"simpletable\">\n",
              "<tr>\n",
              "             <td></td>               <th>coef</th>     <th>std err</th>      <th>z</th>      <th>P>|z|</th>  <th>[0.025</th>    <th>0.975]</th>  \n",
              "</tr>\n",
              "<tr>\n",
              "  <th>Intercept</th>              <td>   -3.5074</td> <td>    0.080</td> <td>  -43.799</td> <td> 0.000</td> <td>   -3.664</td> <td>   -3.350</td>\n",
              "</tr>\n",
              "<tr>\n",
              "  <th>util_new</th>               <td>    1.4764</td> <td>    0.033</td> <td>   44.414</td> <td> 0.000</td> <td>    1.411</td> <td>    1.542</td>\n",
              "</tr>\n",
              "<tr>\n",
              "  <th>age_new</th>                <td>   -0.0192</td> <td>    0.001</td> <td>  -20.566</td> <td> 0.000</td> <td>   -0.021</td> <td>   -0.017</td>\n",
              "</tr>\n",
              "<tr>\n",
              "  <th>num_30_59_dpd_new</th>      <td>    0.4364</td> <td>    0.011</td> <td>   39.272</td> <td> 0.000</td> <td>    0.415</td> <td>    0.458</td>\n",
              "</tr>\n",
              "<tr>\n",
              "  <th>DebtRatio_new_ind</th>      <td>    0.4078</td> <td>    0.046</td> <td>    8.821</td> <td> 0.000</td> <td>    0.317</td> <td>    0.498</td>\n",
              "</tr>\n",
              "<tr>\n",
              "  <th>DebtRatio_new</th>          <td>    0.7831</td> <td>    0.067</td> <td>   11.734</td> <td> 0.000</td> <td>    0.652</td> <td>    0.914</td>\n",
              "</tr>\n",
              "<tr>\n",
              "  <th>MonthlyIncome_ind</th>      <td>    0.4513</td> <td>    0.053</td> <td>    8.579</td> <td> 0.000</td> <td>    0.348</td> <td>    0.554</td>\n",
              "</tr>\n",
              "<tr>\n",
              "  <th>MonthlyIncome_new</th>      <td>-1.874e-05</td> <td>  4.5e-06</td> <td>   -4.162</td> <td> 0.000</td> <td>-2.76e-05</td> <td>-9.92e-06</td>\n",
              "</tr>\n",
              "<tr>\n",
              "  <th>Open_Credit_lines_new</th>  <td>    0.0188</td> <td>    0.003</td> <td>    5.869</td> <td> 0.000</td> <td>    0.013</td> <td>    0.025</td>\n",
              "</tr>\n",
              "<tr>\n",
              "  <th>num_90_dpd_new</th>         <td>    0.7149</td> <td>    0.016</td> <td>   43.541</td> <td> 0.000</td> <td>    0.683</td> <td>    0.747</td>\n",
              "</tr>\n",
              "<tr>\n",
              "  <th>Real_estate_loans_new</th>  <td>   -0.0828</td> <td>    0.016</td> <td>   -5.096</td> <td> 0.000</td> <td>   -0.115</td> <td>   -0.051</td>\n",
              "</tr>\n",
              "<tr>\n",
              "  <th>num_60_dpd_new</th>         <td>    0.5795</td> <td>    0.023</td> <td>   25.640</td> <td> 0.000</td> <td>    0.535</td> <td>    0.624</td>\n",
              "</tr>\n",
              "<tr>\n",
              "  <th>NumberOfDependents_new</th> <td>    0.0574</td> <td>    0.010</td> <td>    5.697</td> <td> 0.000</td> <td>    0.038</td> <td>    0.077</td>\n",
              "</tr>\n",
              "</table>"
            ],
            "text/plain": [
              "<class 'statsmodels.iolib.summary.Summary'>\n",
              "\"\"\"\n",
              "                           Logit Regression Results                           \n",
              "==============================================================================\n",
              "Dep. Variable:       SeriousDlqin2yrs   No. Observations:               150000\n",
              "Model:                          Logit   Df Residuals:                   149987\n",
              "Method:                           MLE   Df Model:                           12\n",
              "Date:                Sat, 12 Sep 2020   Pseudo R-squ.:                  0.2117\n",
              "Time:                        17:03:56   Log-Likelihood:                -29017.\n",
              "converged:                       True   LL-Null:                       -36808.\n",
              "Covariance Type:            nonrobust   LLR p-value:                     0.000\n",
              "==========================================================================================\n",
              "                             coef    std err          z      P>|z|      [0.025      0.975]\n",
              "------------------------------------------------------------------------------------------\n",
              "Intercept                 -3.5074      0.080    -43.799      0.000      -3.664      -3.350\n",
              "util_new                   1.4764      0.033     44.414      0.000       1.411       1.542\n",
              "age_new                   -0.0192      0.001    -20.566      0.000      -0.021      -0.017\n",
              "num_30_59_dpd_new          0.4364      0.011     39.272      0.000       0.415       0.458\n",
              "DebtRatio_new_ind          0.4078      0.046      8.821      0.000       0.317       0.498\n",
              "DebtRatio_new              0.7831      0.067     11.734      0.000       0.652       0.914\n",
              "MonthlyIncome_ind          0.4513      0.053      8.579      0.000       0.348       0.554\n",
              "MonthlyIncome_new      -1.874e-05    4.5e-06     -4.162      0.000   -2.76e-05   -9.92e-06\n",
              "Open_Credit_lines_new      0.0188      0.003      5.869      0.000       0.013       0.025\n",
              "num_90_dpd_new             0.7149      0.016     43.541      0.000       0.683       0.747\n",
              "Real_estate_loans_new     -0.0828      0.016     -5.096      0.000      -0.115      -0.051\n",
              "num_60_dpd_new             0.5795      0.023     25.640      0.000       0.535       0.624\n",
              "NumberOfDependents_new     0.0574      0.010      5.697      0.000       0.038       0.077\n",
              "==========================================================================================\n",
              "\"\"\""
            ]
          },
          "metadata": {
            "tags": []
          },
          "execution_count": 53
        }
      ]
    },
    {
      "cell_type": "code",
      "metadata": {
        "id": "kjFd8uXlrRJE"
      },
      "source": [
        "\n",
        "# looks like there is no varaible with p value more than .05 \n"
      ],
      "execution_count": null,
      "outputs": []
    },
    {
      "cell_type": "code",
      "metadata": {
        "id": "FUmOErxvrMBc",
        "colab": {
          "base_uri": "https://localhost:8080/",
          "height": 255
        },
        "outputId": "b914aa7d-b331-436c-f524-129684be786b"
      },
      "source": [
        "abs(result.tvalues).sort_values(ascending=False)"
      ],
      "execution_count": null,
      "outputs": [
        {
          "output_type": "execute_result",
          "data": {
            "text/plain": [
              "util_new                  44.413518\n",
              "Intercept                 43.798993\n",
              "num_90_dpd_new            43.540982\n",
              "num_30_59_dpd_new         39.271838\n",
              "num_60_dpd_new            25.640239\n",
              "age_new                   20.566068\n",
              "DebtRatio_new             11.733802\n",
              "DebtRatio_new_ind          8.821360\n",
              "MonthlyIncome_ind          8.579097\n",
              "Open_Credit_lines_new      5.868811\n",
              "NumberOfDependents_new     5.696653\n",
              "Real_estate_loans_new      5.096125\n",
              "MonthlyIncome_new          4.162124\n",
              "dtype: float64"
            ]
          },
          "metadata": {
            "tags": []
          },
          "execution_count": 55
        }
      ]
    },
    {
      "cell_type": "code",
      "metadata": {
        "id": "dGtmEU2mrMq7"
      },
      "source": [
        "Cred = pd.read_csv(\"https://raw.githubusercontent.com/venkatareddykonasani/Datasets/master/Credit_Risk_Cleaned/New_Cust.csv\")"
      ],
      "execution_count": null,
      "outputs": []
    },
    {
      "cell_type": "code",
      "metadata": {
        "id": "vINW_4B3rSPM",
        "colab": {
          "base_uri": "https://localhost:8080/",
          "height": 441
        },
        "outputId": "57e80e61-ffa2-4e53-8e0f-124997f37ed8"
      },
      "source": [
        "Cred.head().T"
      ],
      "execution_count": null,
      "outputs": [
        {
          "output_type": "execute_result",
          "data": {
            "text/html": [
              "<div>\n",
              "<style scoped>\n",
              "    .dataframe tbody tr th:only-of-type {\n",
              "        vertical-align: middle;\n",
              "    }\n",
              "\n",
              "    .dataframe tbody tr th {\n",
              "        vertical-align: top;\n",
              "    }\n",
              "\n",
              "    .dataframe thead th {\n",
              "        text-align: right;\n",
              "    }\n",
              "</style>\n",
              "<table border=\"1\" class=\"dataframe\">\n",
              "  <thead>\n",
              "    <tr style=\"text-align: right;\">\n",
              "      <th></th>\n",
              "      <th>0</th>\n",
              "      <th>1</th>\n",
              "      <th>2</th>\n",
              "      <th>3</th>\n",
              "      <th>4</th>\n",
              "    </tr>\n",
              "  </thead>\n",
              "  <tbody>\n",
              "    <tr>\n",
              "      <th>Util_new</th>\n",
              "      <td>0.953413</td>\n",
              "      <td>0.539551</td>\n",
              "      <td>0.024450</td>\n",
              "      <td>1.000000</td>\n",
              "      <td>1.0</td>\n",
              "    </tr>\n",
              "    <tr>\n",
              "      <th>Age_new</th>\n",
              "      <td>78.000000</td>\n",
              "      <td>49.000000</td>\n",
              "      <td>67.000000</td>\n",
              "      <td>44.000000</td>\n",
              "      <td>30.0</td>\n",
              "    </tr>\n",
              "    <tr>\n",
              "      <th>Num_30_59_dpd_new</th>\n",
              "      <td>0.000000</td>\n",
              "      <td>1.000000</td>\n",
              "      <td>0.000000</td>\n",
              "      <td>0.000000</td>\n",
              "      <td>1.0</td>\n",
              "    </tr>\n",
              "    <tr>\n",
              "      <th>DebtRatio_new_ind</th>\n",
              "      <td>0.000000</td>\n",
              "      <td>0.000000</td>\n",
              "      <td>1.000000</td>\n",
              "      <td>0.000000</td>\n",
              "      <td>0.0</td>\n",
              "    </tr>\n",
              "    <tr>\n",
              "      <th>DebtRatio_new</th>\n",
              "      <td>0.647700</td>\n",
              "      <td>0.354434</td>\n",
              "      <td>0.366508</td>\n",
              "      <td>0.562772</td>\n",
              "      <td>0.0</td>\n",
              "    </tr>\n",
              "    <tr>\n",
              "      <th>MonthlyIncome_ind</th>\n",
              "      <td>1.000000</td>\n",
              "      <td>1.000000</td>\n",
              "      <td>0.000000</td>\n",
              "      <td>1.000000</td>\n",
              "      <td>0.0</td>\n",
              "    </tr>\n",
              "    <tr>\n",
              "      <th>MonthlyIncome_new</th>\n",
              "      <td>5500.000000</td>\n",
              "      <td>10283.000000</td>\n",
              "      <td>5400.000000</td>\n",
              "      <td>3448.000000</td>\n",
              "      <td>5400.0</td>\n",
              "    </tr>\n",
              "    <tr>\n",
              "      <th>Open_Credit_lines_new</th>\n",
              "      <td>17.000000</td>\n",
              "      <td>8.000000</td>\n",
              "      <td>8.000000</td>\n",
              "      <td>1.000000</td>\n",
              "      <td>0.0</td>\n",
              "    </tr>\n",
              "    <tr>\n",
              "      <th>Num_90_dpd_new</th>\n",
              "      <td>0.000000</td>\n",
              "      <td>0.000000</td>\n",
              "      <td>0.000000</td>\n",
              "      <td>1.000000</td>\n",
              "      <td>1.0</td>\n",
              "    </tr>\n",
              "    <tr>\n",
              "      <th>Real_estate_loans_new</th>\n",
              "      <td>2.000000</td>\n",
              "      <td>1.000000</td>\n",
              "      <td>1.000000</td>\n",
              "      <td>1.000000</td>\n",
              "      <td>0.0</td>\n",
              "    </tr>\n",
              "    <tr>\n",
              "      <th>Num_60_dpd_new</th>\n",
              "      <td>0.000000</td>\n",
              "      <td>0.000000</td>\n",
              "      <td>0.000000</td>\n",
              "      <td>0.000000</td>\n",
              "      <td>0.0</td>\n",
              "    </tr>\n",
              "    <tr>\n",
              "      <th>NumberOfDependents_new</th>\n",
              "      <td>0.000000</td>\n",
              "      <td>0.000000</td>\n",
              "      <td>0.000000</td>\n",
              "      <td>0.000000</td>\n",
              "      <td>0.0</td>\n",
              "    </tr>\n",
              "  </tbody>\n",
              "</table>\n",
              "</div>"
            ],
            "text/plain": [
              "                                  0             1  ...            3       4\n",
              "Util_new                   0.953413      0.539551  ...     1.000000     1.0\n",
              "Age_new                   78.000000     49.000000  ...    44.000000    30.0\n",
              "Num_30_59_dpd_new          0.000000      1.000000  ...     0.000000     1.0\n",
              "DebtRatio_new_ind          0.000000      0.000000  ...     0.000000     0.0\n",
              "DebtRatio_new              0.647700      0.354434  ...     0.562772     0.0\n",
              "MonthlyIncome_ind          1.000000      1.000000  ...     1.000000     0.0\n",
              "MonthlyIncome_new       5500.000000  10283.000000  ...  3448.000000  5400.0\n",
              "Open_Credit_lines_new     17.000000      8.000000  ...     1.000000     0.0\n",
              "Num_90_dpd_new             0.000000      0.000000  ...     1.000000     1.0\n",
              "Real_estate_loans_new      2.000000      1.000000  ...     1.000000     0.0\n",
              "Num_60_dpd_new             0.000000      0.000000  ...     0.000000     0.0\n",
              "NumberOfDependents_new     0.000000      0.000000  ...     0.000000     0.0\n",
              "\n",
              "[12 rows x 5 columns]"
            ]
          },
          "metadata": {
            "tags": []
          },
          "execution_count": 57
        }
      ]
    },
    {
      "cell_type": "code",
      "metadata": {
        "id": "1K1INw1uUsTq",
        "colab": {
          "base_uri": "https://localhost:8080/",
          "height": 340
        },
        "outputId": "dc0c85bb-d44f-40aa-eac2-4a16fd28f2ae"
      },
      "source": [
        "Cred.info()"
      ],
      "execution_count": null,
      "outputs": [
        {
          "output_type": "stream",
          "text": [
            "<class 'pandas.core.frame.DataFrame'>\n",
            "RangeIndex: 39 entries, 0 to 38\n",
            "Data columns (total 12 columns):\n",
            " #   Column                  Non-Null Count  Dtype  \n",
            "---  ------                  --------------  -----  \n",
            " 0   Util_new                39 non-null     float64\n",
            " 1   Age_new                 39 non-null     int64  \n",
            " 2   Num_30_59_dpd_new       39 non-null     int64  \n",
            " 3   DebtRatio_new_ind       39 non-null     int64  \n",
            " 4   DebtRatio_new           39 non-null     float64\n",
            " 5   MonthlyIncome_ind       39 non-null     int64  \n",
            " 6   MonthlyIncome_new       39 non-null     int64  \n",
            " 7   Open_Credit_lines_new   39 non-null     int64  \n",
            " 8   Num_90_dpd_new          39 non-null     int64  \n",
            " 9   Real_estate_loans_new   39 non-null     int64  \n",
            " 10  Num_60_dpd_new          39 non-null     int64  \n",
            " 11  NumberOfDependents_new  39 non-null     int64  \n",
            "dtypes: float64(2), int64(10)\n",
            "memory usage: 3.8 KB\n"
          ],
          "name": "stdout"
        }
      ]
    },
    {
      "cell_type": "code",
      "metadata": {
        "id": "fRbMk0SZTbhT"
      },
      "source": [
        "Cred = Cred.rename({\"Util_new\":\"util_new\",\"Age_new\":\"age_new\",\"Num_30_59_dpd_new\":\"num_30_59_dpd_new\",\"Num_90_dpd_new\":\"num_90_dpd_new\",\"Num_60_dpd_new\":\"num_60_dpd_new\"}, axis=1)"
      ],
      "execution_count": null,
      "outputs": []
    },
    {
      "cell_type": "code",
      "metadata": {
        "id": "AaP5t10OSLeR"
      },
      "source": [
        "Cred[\"Predicted\"] = result.predict(Cred)\n",
        "Cred[\"Predicted_Class\"] = round(result.predict(Cred))"
      ],
      "execution_count": null,
      "outputs": []
    },
    {
      "cell_type": "code",
      "metadata": {
        "id": "3xVe6oz2Vz1-",
        "colab": {
          "base_uri": "https://localhost:8080/",
          "height": 224
        },
        "outputId": "a3798e7e-cf9d-4e0f-ed8b-f08b75653710"
      },
      "source": [
        "Cred.head()"
      ],
      "execution_count": null,
      "outputs": [
        {
          "output_type": "execute_result",
          "data": {
            "text/html": [
              "<div>\n",
              "<style scoped>\n",
              "    .dataframe tbody tr th:only-of-type {\n",
              "        vertical-align: middle;\n",
              "    }\n",
              "\n",
              "    .dataframe tbody tr th {\n",
              "        vertical-align: top;\n",
              "    }\n",
              "\n",
              "    .dataframe thead th {\n",
              "        text-align: right;\n",
              "    }\n",
              "</style>\n",
              "<table border=\"1\" class=\"dataframe\">\n",
              "  <thead>\n",
              "    <tr style=\"text-align: right;\">\n",
              "      <th></th>\n",
              "      <th>util_new</th>\n",
              "      <th>age_new</th>\n",
              "      <th>num_30_59_dpd_new</th>\n",
              "      <th>DebtRatio_new_ind</th>\n",
              "      <th>DebtRatio_new</th>\n",
              "      <th>MonthlyIncome_ind</th>\n",
              "      <th>MonthlyIncome_new</th>\n",
              "      <th>Open_Credit_lines_new</th>\n",
              "      <th>num_90_dpd_new</th>\n",
              "      <th>Real_estate_loans_new</th>\n",
              "      <th>num_60_dpd_new</th>\n",
              "      <th>NumberOfDependents_new</th>\n",
              "      <th>Predicted</th>\n",
              "      <th>Predicted_Class</th>\n",
              "    </tr>\n",
              "  </thead>\n",
              "  <tbody>\n",
              "    <tr>\n",
              "      <th>0</th>\n",
              "      <td>0.953413</td>\n",
              "      <td>78</td>\n",
              "      <td>0</td>\n",
              "      <td>0</td>\n",
              "      <td>0.647700</td>\n",
              "      <td>1</td>\n",
              "      <td>5500</td>\n",
              "      <td>17</td>\n",
              "      <td>0</td>\n",
              "      <td>2</td>\n",
              "      <td>0</td>\n",
              "      <td>0</td>\n",
              "      <td>0.070173</td>\n",
              "      <td>0.0</td>\n",
              "    </tr>\n",
              "    <tr>\n",
              "      <th>1</th>\n",
              "      <td>0.539551</td>\n",
              "      <td>49</td>\n",
              "      <td>1</td>\n",
              "      <td>0</td>\n",
              "      <td>0.354434</td>\n",
              "      <td>1</td>\n",
              "      <td>10283</td>\n",
              "      <td>8</td>\n",
              "      <td>0</td>\n",
              "      <td>1</td>\n",
              "      <td>0</td>\n",
              "      <td>0</td>\n",
              "      <td>0.068558</td>\n",
              "      <td>0.0</td>\n",
              "    </tr>\n",
              "    <tr>\n",
              "      <th>2</th>\n",
              "      <td>0.024450</td>\n",
              "      <td>67</td>\n",
              "      <td>0</td>\n",
              "      <td>1</td>\n",
              "      <td>0.366508</td>\n",
              "      <td>0</td>\n",
              "      <td>5400</td>\n",
              "      <td>8</td>\n",
              "      <td>0</td>\n",
              "      <td>1</td>\n",
              "      <td>0</td>\n",
              "      <td>0</td>\n",
              "      <td>0.016409</td>\n",
              "      <td>0.0</td>\n",
              "    </tr>\n",
              "    <tr>\n",
              "      <th>3</th>\n",
              "      <td>1.000000</td>\n",
              "      <td>44</td>\n",
              "      <td>0</td>\n",
              "      <td>0</td>\n",
              "      <td>0.562772</td>\n",
              "      <td>1</td>\n",
              "      <td>3448</td>\n",
              "      <td>1</td>\n",
              "      <td>1</td>\n",
              "      <td>1</td>\n",
              "      <td>0</td>\n",
              "      <td>0</td>\n",
              "      <td>0.198513</td>\n",
              "      <td>0.0</td>\n",
              "    </tr>\n",
              "    <tr>\n",
              "      <th>4</th>\n",
              "      <td>1.000000</td>\n",
              "      <td>30</td>\n",
              "      <td>1</td>\n",
              "      <td>0</td>\n",
              "      <td>0.000000</td>\n",
              "      <td>0</td>\n",
              "      <td>5400</td>\n",
              "      <td>0</td>\n",
              "      <td>1</td>\n",
              "      <td>0</td>\n",
              "      <td>0</td>\n",
              "      <td>0</td>\n",
              "      <td>0.174274</td>\n",
              "      <td>0.0</td>\n",
              "    </tr>\n",
              "  </tbody>\n",
              "</table>\n",
              "</div>"
            ],
            "text/plain": [
              "   util_new  age_new  ...  Predicted  Predicted_Class\n",
              "0  0.953413       78  ...   0.070173              0.0\n",
              "1  0.539551       49  ...   0.068558              0.0\n",
              "2  0.024450       67  ...   0.016409              0.0\n",
              "3  1.000000       44  ...   0.198513              0.0\n",
              "4  1.000000       30  ...   0.174274              0.0\n",
              "\n",
              "[5 rows x 14 columns]"
            ]
          },
          "metadata": {
            "tags": []
          },
          "execution_count": 78
        }
      ]
    },
    {
      "cell_type": "code",
      "metadata": {
        "id": "fXKBuYfCp114"
      },
      "source": [
        "#-->In this project our aim was to predict if the customer will be delinquent in the future or not.\n",
        "#-->with the model that we were able to build using the logistic regression algorithm we will confidently be able to\n",
        "#   deploy the model as it is prooven to be ~93% accurate which is considerate of banking industry standards. \n",
        "#-->As we can see, after we derived the most impactful variables using Wald Chi-square.\n",
        "#   -It is recommended to the bank to consider the monthly ulilization of the customer, peole with mothly utilizaion with more than 93% are a bit risky.\n",
        "#   -we should check the customer's delinquency history, people who have been delenquent to pay their installments \n",
        "#    after 30 days of due date are found to be sceriously delinquent overtime.\n",
        "#   -It is highly recommened to the bank to lookout for younger customers as it has been seen with people in younger age group are more often found to be \n",
        "#     seroiously delinquent overtime contrary to the age group of older customer ."
      ],
      "execution_count": null,
      "outputs": []
    }
  ]
}
