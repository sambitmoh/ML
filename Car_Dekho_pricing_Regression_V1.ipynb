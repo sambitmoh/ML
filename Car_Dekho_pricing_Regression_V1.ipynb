{
  "nbformat": 4,
  "nbformat_minor": 0,
  "metadata": {
    "colab": {
      "name": "Car_Dekho_pricing_Regression_V1.ipynb",
      "provenance": [],
      "collapsed_sections": []
    },
    "kernelspec": {
      "name": "python3",
      "display_name": "Python 3"
    }
  },
  "cells": [
    {
      "cell_type": "code",
      "metadata": {
        "id": "dlFgmjSz2E1r",
        "colab": {
          "base_uri": "https://localhost:8080/",
          "height": 71
        },
        "outputId": "2ce98acb-414a-454e-96bf-eaa119cfa737"
      },
      "source": [
        "import pandas as pd\n",
        "import numpy as np\n",
        "import matplotlib.pyplot as plt\n",
        "import seaborn as sns"
      ],
      "execution_count": null,
      "outputs": [
        {
          "output_type": "stream",
          "text": [
            "/usr/local/lib/python3.6/dist-packages/statsmodels/tools/_testing.py:19: FutureWarning: pandas.util.testing is deprecated. Use the functions in the public API at pandas.testing instead.\n",
            "  import pandas.util.testing as tm\n"
          ],
          "name": "stderr"
        }
      ]
    },
    {
      "cell_type": "code",
      "metadata": {
        "id": "vBB7K2avz313",
        "colab": {
          "base_uri": "https://localhost:8080/",
          "height": 34
        },
        "outputId": "43b5d573-bc1b-4635-e2fe-344df8409bf5"
      },
      "source": [
        "Car = pd.read_csv(\"https://raw.githubusercontent.com/venkatareddykonasani/Datasets/master/Car_Dekho/car%20data.csv\")\n",
        "Car.head().T\n",
        "(\"Selling_Price\",\"Present_Price\",\"Kms_Driven\")"
      ],
      "execution_count": null,
      "outputs": [
        {
          "output_type": "execute_result",
          "data": {
            "text/plain": [
              "('Selling_Price', 'Present_Price', 'Kms_Driven')"
            ]
          },
          "metadata": {
            "tags": []
          },
          "execution_count": 2
        }
      ]
    },
    {
      "cell_type": "code",
      "metadata": {
        "id": "wdeSQjHJ2wma",
        "colab": {
          "base_uri": "https://localhost:8080/",
          "height": 224
        },
        "outputId": "12fbfd29-d314-456e-c1f5-15f29c1a944f"
      },
      "source": [
        "Car.head()"
      ],
      "execution_count": null,
      "outputs": [
        {
          "output_type": "execute_result",
          "data": {
            "text/html": [
              "<div>\n",
              "<style scoped>\n",
              "    .dataframe tbody tr th:only-of-type {\n",
              "        vertical-align: middle;\n",
              "    }\n",
              "\n",
              "    .dataframe tbody tr th {\n",
              "        vertical-align: top;\n",
              "    }\n",
              "\n",
              "    .dataframe thead th {\n",
              "        text-align: right;\n",
              "    }\n",
              "</style>\n",
              "<table border=\"1\" class=\"dataframe\">\n",
              "  <thead>\n",
              "    <tr style=\"text-align: right;\">\n",
              "      <th></th>\n",
              "      <th>Car_Name</th>\n",
              "      <th>Year</th>\n",
              "      <th>Selling_Price</th>\n",
              "      <th>Present_Price</th>\n",
              "      <th>Kms_Driven</th>\n",
              "      <th>Fuel_Type</th>\n",
              "      <th>Seller_Type</th>\n",
              "      <th>Transmission</th>\n",
              "      <th>Owner</th>\n",
              "    </tr>\n",
              "  </thead>\n",
              "  <tbody>\n",
              "    <tr>\n",
              "      <th>0</th>\n",
              "      <td>ritz</td>\n",
              "      <td>2014</td>\n",
              "      <td>3.35</td>\n",
              "      <td>5.59</td>\n",
              "      <td>27000</td>\n",
              "      <td>Petrol</td>\n",
              "      <td>Dealer</td>\n",
              "      <td>Manual</td>\n",
              "      <td>0</td>\n",
              "    </tr>\n",
              "    <tr>\n",
              "      <th>1</th>\n",
              "      <td>sx4</td>\n",
              "      <td>2013</td>\n",
              "      <td>4.75</td>\n",
              "      <td>9.54</td>\n",
              "      <td>43000</td>\n",
              "      <td>Diesel</td>\n",
              "      <td>Dealer</td>\n",
              "      <td>Manual</td>\n",
              "      <td>0</td>\n",
              "    </tr>\n",
              "    <tr>\n",
              "      <th>2</th>\n",
              "      <td>ciaz</td>\n",
              "      <td>2017</td>\n",
              "      <td>7.25</td>\n",
              "      <td>9.85</td>\n",
              "      <td>6900</td>\n",
              "      <td>Petrol</td>\n",
              "      <td>Dealer</td>\n",
              "      <td>Manual</td>\n",
              "      <td>0</td>\n",
              "    </tr>\n",
              "    <tr>\n",
              "      <th>3</th>\n",
              "      <td>wagon r</td>\n",
              "      <td>2011</td>\n",
              "      <td>2.85</td>\n",
              "      <td>4.15</td>\n",
              "      <td>5200</td>\n",
              "      <td>Petrol</td>\n",
              "      <td>Dealer</td>\n",
              "      <td>Manual</td>\n",
              "      <td>0</td>\n",
              "    </tr>\n",
              "    <tr>\n",
              "      <th>4</th>\n",
              "      <td>swift</td>\n",
              "      <td>2014</td>\n",
              "      <td>4.60</td>\n",
              "      <td>6.87</td>\n",
              "      <td>42450</td>\n",
              "      <td>Diesel</td>\n",
              "      <td>Dealer</td>\n",
              "      <td>Manual</td>\n",
              "      <td>0</td>\n",
              "    </tr>\n",
              "  </tbody>\n",
              "</table>\n",
              "</div>"
            ],
            "text/plain": [
              "  Car_Name  Year  Selling_Price  ...  Seller_Type  Transmission Owner\n",
              "0     ritz  2014           3.35  ...       Dealer        Manual     0\n",
              "1      sx4  2013           4.75  ...       Dealer        Manual     0\n",
              "2     ciaz  2017           7.25  ...       Dealer        Manual     0\n",
              "3  wagon r  2011           2.85  ...       Dealer        Manual     0\n",
              "4    swift  2014           4.60  ...       Dealer        Manual     0\n",
              "\n",
              "[5 rows x 9 columns]"
            ]
          },
          "metadata": {
            "tags": []
          },
          "execution_count": 3
        }
      ]
    },
    {
      "cell_type": "code",
      "metadata": {
        "id": "pJZW-Cal2wrL",
        "colab": {
          "base_uri": "https://localhost:8080/",
          "height": 170
        },
        "outputId": "6a4ea516-07f4-443c-9e72-168bc44d11cf"
      },
      "source": [
        "for col in Car.columns:\n",
        "  print(col, sum(Car[col].isnull()))\n",
        "  "
      ],
      "execution_count": null,
      "outputs": [
        {
          "output_type": "stream",
          "text": [
            "Car_Name 0\n",
            "Year 0\n",
            "Selling_Price 0\n",
            "Present_Price 0\n",
            "Kms_Driven 0\n",
            "Fuel_Type 0\n",
            "Seller_Type 0\n",
            "Transmission 0\n",
            "Owner 0\n"
          ],
          "name": "stdout"
        }
      ]
    },
    {
      "cell_type": "code",
      "metadata": {
        "id": "BfZY3XLCKnbr",
        "colab": {
          "base_uri": "https://localhost:8080/",
          "height": 102
        },
        "outputId": "45577d5a-92fe-42bb-a2fa-ff04b9ccaba2"
      },
      "source": [
        "print(Car[\"Fuel_Type\"].value_counts(),\"\\n\")\n"
      ],
      "execution_count": null,
      "outputs": [
        {
          "output_type": "stream",
          "text": [
            "Petrol    239\n",
            "Diesel     60\n",
            "CNG         2\n",
            "Name: Fuel_Type, dtype: int64 \n",
            "\n"
          ],
          "name": "stdout"
        }
      ]
    },
    {
      "cell_type": "code",
      "metadata": {
        "id": "tWnFlFPl8BG9",
        "colab": {
          "base_uri": "https://localhost:8080/",
          "height": 68
        },
        "outputId": "3f1b3549-7e3b-4b19-f4b0-0ef4c5585508"
      },
      "source": [
        "Car[\"Seller_Type\"].value_counts()"
      ],
      "execution_count": null,
      "outputs": [
        {
          "output_type": "execute_result",
          "data": {
            "text/plain": [
              "Dealer        195\n",
              "Individual    106\n",
              "Name: Seller_Type, dtype: int64"
            ]
          },
          "metadata": {
            "tags": []
          },
          "execution_count": 6
        }
      ]
    },
    {
      "cell_type": "code",
      "metadata": {
        "id": "u9CSEOWF8BKY",
        "colab": {
          "base_uri": "https://localhost:8080/",
          "height": 68
        },
        "outputId": "17640846-87a2-472f-920a-851cb3be4932"
      },
      "source": [
        "Car.Transmission.value_counts()"
      ],
      "execution_count": null,
      "outputs": [
        {
          "output_type": "execute_result",
          "data": {
            "text/plain": [
              "Manual       261\n",
              "Automatic     40\n",
              "Name: Transmission, dtype: int64"
            ]
          },
          "metadata": {
            "tags": []
          },
          "execution_count": 7
        }
      ]
    },
    {
      "cell_type": "code",
      "metadata": {
        "id": "vDQc6D3P8BFO",
        "colab": {
          "base_uri": "https://localhost:8080/",
          "height": 85
        },
        "outputId": "485b02de-c062-4737-c68e-a5f82d33a929"
      },
      "source": [
        "Car.Owner.value_counts()"
      ],
      "execution_count": null,
      "outputs": [
        {
          "output_type": "execute_result",
          "data": {
            "text/plain": [
              "0    290\n",
              "1     10\n",
              "3      1\n",
              "Name: Owner, dtype: int64"
            ]
          },
          "metadata": {
            "tags": []
          },
          "execution_count": 8
        }
      ]
    },
    {
      "cell_type": "code",
      "metadata": {
        "id": "W1-9HVzvCMjm",
        "colab": {
          "base_uri": "https://localhost:8080/",
          "height": 170
        },
        "outputId": "f94740f7-8d27-4fa5-da6c-3e79e0fbef1c"
      },
      "source": [
        "Car[\"Selling_Price\"].describe()\n",
        "#mean and Std dont have much diffrence"
      ],
      "execution_count": null,
      "outputs": [
        {
          "output_type": "execute_result",
          "data": {
            "text/plain": [
              "count    301.000000\n",
              "mean       4.661296\n",
              "std        5.082812\n",
              "min        0.100000\n",
              "25%        0.900000\n",
              "50%        3.600000\n",
              "75%        6.000000\n",
              "max       35.000000\n",
              "Name: Selling_Price, dtype: float64"
            ]
          },
          "metadata": {
            "tags": []
          },
          "execution_count": 9
        }
      ]
    },
    {
      "cell_type": "code",
      "metadata": {
        "id": "t_Jjh0aY_YbD",
        "colab": {
          "base_uri": "https://localhost:8080/",
          "height": 527
        },
        "outputId": "d55df1b3-c07f-463b-8a6c-6ba884c89666"
      },
      "source": [
        "Car[\"Selling_Price\"].quantile([0,0.01,0.02,0.03,0.04,0.05,0.06,0.07,0.08,0.09,0.1,0.2,0.3,0.4,0.5,0.6,0.7,0.8,0.9,0.91,0.92,0.93,0.94,0.95,0.96,0.97,0.98,0.99,1])"
      ],
      "execution_count": null,
      "outputs": [
        {
          "output_type": "execute_result",
          "data": {
            "text/plain": [
              "0.00     0.10\n",
              "0.01     0.16\n",
              "0.02     0.20\n",
              "0.03     0.20\n",
              "0.04     0.25\n",
              "0.05     0.25\n",
              "0.06     0.30\n",
              "0.07     0.31\n",
              "0.08     0.35\n",
              "0.09     0.38\n",
              "0.10     0.40\n",
              "0.20     0.60\n",
              "0.30     1.15\n",
              "0.40     2.70\n",
              "0.50     3.60\n",
              "0.60     4.75\n",
              "0.70     5.50\n",
              "0.80     7.05\n",
              "0.90     9.50\n",
              "0.91    10.11\n",
              "0.92    11.25\n",
              "0.93    11.45\n",
              "0.94    12.50\n",
              "0.95    14.50\n",
              "0.96    16.00\n",
              "0.97    18.75\n",
              "0.98    20.75\n",
              "0.99    23.00\n",
              "1.00    35.00\n",
              "Name: Selling_Price, dtype: float64"
            ]
          },
          "metadata": {
            "tags": []
          },
          "execution_count": 10
        }
      ]
    },
    {
      "cell_type": "code",
      "metadata": {
        "id": "LCTrQdgk-3oz",
        "colab": {
          "base_uri": "https://localhost:8080/",
          "height": 283
        },
        "outputId": "cc696f43-7b72-4ec5-c0a1-57c9404c9a11"
      },
      "source": [
        "Car.boxplot(\"Selling_Price\")"
      ],
      "execution_count": null,
      "outputs": [
        {
          "output_type": "execute_result",
          "data": {
            "text/plain": [
              "<matplotlib.axes._subplots.AxesSubplot at 0x7fa001779ef0>"
            ]
          },
          "metadata": {
            "tags": []
          },
          "execution_count": 11
        },
        {
          "output_type": "display_data",
          "data": {
            "image/png": "[encoded data removed]",
            "text/plain": [
              "<Figure size 432x288 with 1 Axes>"
            ]
          },
          "metadata": {
            "tags": [],
            "needs_background": "light"
          }
        }
      ]
    },
    {
      "cell_type": "code",
      "metadata": {
        "id": "y9_WVtYIqxzC",
        "colab": {
          "base_uri": "https://localhost:8080/",
          "height": 170
        },
        "outputId": "05a6a903-be45-4318-90d1-97c0b4f0cb11"
      },
      "source": [
        "Car[\"Present_Price\"].describe()"
      ],
      "execution_count": null,
      "outputs": [
        {
          "output_type": "execute_result",
          "data": {
            "text/plain": [
              "count    301.000000\n",
              "mean       7.628472\n",
              "std        8.644115\n",
              "min        0.320000\n",
              "25%        1.200000\n",
              "50%        6.400000\n",
              "75%        9.900000\n",
              "max       92.600000\n",
              "Name: Present_Price, dtype: float64"
            ]
          },
          "metadata": {
            "tags": []
          },
          "execution_count": 12
        }
      ]
    },
    {
      "cell_type": "code",
      "metadata": {
        "id": "MiTuOeqLrJ8q",
        "colab": {
          "base_uri": "https://localhost:8080/",
          "height": 527
        },
        "outputId": "5c6df1e8-6cbe-40a8-e626-dc930df1e058"
      },
      "source": [
        "Car[\"Present_Price\"].quantile([0,0.01,0.02,0.03,0.04,0.05,0.06,0.07,0.08,0.09,0.1,0.2,0.3,0.4,0.5,0.6,0.7,0.8,0.9,0.91,0.92,0.93,0.94,0.95,0.96,0.97,0.98,0.99,1])"
      ],
      "execution_count": null,
      "outputs": [
        {
          "output_type": "execute_result",
          "data": {
            "text/plain": [
              "0.00     0.32\n",
              "0.01     0.51\n",
              "0.02     0.51\n",
              "0.03     0.52\n",
              "0.04     0.52\n",
              "0.05     0.54\n",
              "0.06     0.55\n",
              "0.07     0.57\n",
              "0.08     0.57\n",
              "0.09     0.58\n",
              "0.10     0.72\n",
              "0.20     0.94\n",
              "0.30     1.75\n",
              "0.40     4.60\n",
              "0.50     6.40\n",
              "0.60     7.60\n",
              "0.70     9.40\n",
              "0.80    10.79\n",
              "0.90    14.79\n",
              "0.91    16.09\n",
              "0.92    18.61\n",
              "0.93    18.61\n",
              "0.94    20.45\n",
              "0.95    22.78\n",
              "0.96    23.73\n",
              "0.97    30.61\n",
              "0.98    30.61\n",
              "0.99    35.96\n",
              "1.00    92.60\n",
              "Name: Present_Price, dtype: float64"
            ]
          },
          "metadata": {
            "tags": []
          },
          "execution_count": 13
        }
      ]
    },
    {
      "cell_type": "code",
      "metadata": {
        "id": "gqTas1bXrKVe",
        "colab": {
          "base_uri": "https://localhost:8080/",
          "height": 283
        },
        "outputId": "fc305614-8976-4dbd-d70e-b30909790a5a"
      },
      "source": [
        "Car.boxplot(\"Present_Price\")\n",
        "#Vlaues more than 35 are outliers"
      ],
      "execution_count": null,
      "outputs": [
        {
          "output_type": "execute_result",
          "data": {
            "text/plain": [
              "<matplotlib.axes._subplots.AxesSubplot at 0x7fa00ce8b4a8>"
            ]
          },
          "metadata": {
            "tags": []
          },
          "execution_count": 14
        },
        {
          "output_type": "display_data",
          "data": {
            "image/png": "[encoded data removed]",
            "text/plain": [
              "<Figure size 432x288 with 1 Axes>"
            ]
          },
          "metadata": {
            "tags": [],
            "needs_background": "light"
          }
        }
      ]
    },
    {
      "cell_type": "code",
      "metadata": {
        "id": "shwtMP4ACEYV",
        "colab": {
          "base_uri": "https://localhost:8080/",
          "height": 122
        },
        "outputId": "f8d8e297-78a0-45a7-ab98-334bcb0b70de"
      },
      "source": [
        "Car['Present_Price']= Car1['Present_Price']\n",
        "Car1['Present_Price'][Car1[\"Present_Price\"]>36]=Car[\"Present_Price\"].median()"
      ],
      "execution_count": null,
      "outputs": [
        {
          "output_type": "stream",
          "text": [
            "/usr/local/lib/python3.6/dist-packages/ipykernel_launcher.py:2: SettingWithCopyWarning: \n",
            "A value is trying to be set on a copy of a slice from a DataFrame\n",
            "\n",
            "See the caveats in the documentation: https://pandas.pydata.org/pandas-docs/stable/user_guide/indexing.html#returning-a-view-versus-a-copy\n",
            "  \n"
          ],
          "name": "stderr"
        }
      ]
    },
    {
      "cell_type": "code",
      "metadata": {
        "id": "wX_Rh7oKDfPN",
        "colab": {
          "base_uri": "https://localhost:8080/",
          "height": 283
        },
        "outputId": "8571f67a-1fd6-425e-e3d2-8b182227b2c5"
      },
      "source": [
        "Car1.boxplot(\"Present_Price\")"
      ],
      "execution_count": null,
      "outputs": [
        {
          "output_type": "execute_result",
          "data": {
            "text/plain": [
              "<matplotlib.axes._subplots.AxesSubplot at 0x7fa00181d908>"
            ]
          },
          "metadata": {
            "tags": []
          },
          "execution_count": 25
        },
        {
          "output_type": "display_data",
          "data": {
            "image/png": "[encoded data removed]",
            "text/plain": [
              "<Figure size 432x288 with 1 Axes>"
            ]
          },
          "metadata": {
            "tags": [],
            "needs_background": "light"
          }
        }
      ]
    },
    {
      "cell_type": "code",
      "metadata": {
        "id": "jd65bB-7CE9m",
        "colab": {
          "base_uri": "https://localhost:8080/",
          "height": 297
        },
        "outputId": "4444e625-5031-47a3-b177-08ab1f9ee79d"
      },
      "source": [
        "sns.barplot(x=\"Seller_Type\",y=\"Selling_Price\",data=Car)"
      ],
      "execution_count": null,
      "outputs": [
        {
          "output_type": "execute_result",
          "data": {
            "text/plain": [
              "<matplotlib.axes._subplots.AxesSubplot at 0x7fa001073a90>"
            ]
          },
          "metadata": {
            "tags": []
          },
          "execution_count": 26
        },
        {
          "output_type": "display_data",
          "data": {
            "image/png": "[encoded data removed]",
            "text/plain": [
              "<Figure size 432x288 with 1 Axes>"
            ]
          },
          "metadata": {
            "tags": [],
            "needs_background": "light"
          }
        }
      ]
    },
    {
      "cell_type": "code",
      "metadata": {
        "id": "9DGwrv6Xs_Of",
        "colab": {
          "base_uri": "https://localhost:8080/",
          "height": 296
        },
        "outputId": "86dcded0-be83-406c-d763-221092d9f9f5"
      },
      "source": [
        "sns.barplot(x=\"Transmission\",y=\"Selling_Price\",data=Car)"
      ],
      "execution_count": null,
      "outputs": [
        {
          "output_type": "execute_result",
          "data": {
            "text/plain": [
              "<matplotlib.axes._subplots.AxesSubplot at 0x7fa001053710>"
            ]
          },
          "metadata": {
            "tags": []
          },
          "execution_count": 27
        },
        {
          "output_type": "display_data",
          "data": {
            "image/png": "[encoded data removed]",
            "text/plain": [
              "<Figure size 432x288 with 1 Axes>"
            ]
          },
          "metadata": {
            "tags": [],
            "needs_background": "light"
          }
        }
      ]
    },
    {
      "cell_type": "code",
      "metadata": {
        "id": "sy6ATGHnuYZj",
        "colab": {
          "base_uri": "https://localhost:8080/",
          "height": 297
        },
        "outputId": "cbe0b986-5728-4332-fdf8-06f37e6c2778"
      },
      "source": [
        "sns.barplot(x=\"Fuel_Type\",y=\"Selling_Price\",data=Car)"
      ],
      "execution_count": null,
      "outputs": [
        {
          "output_type": "execute_result",
          "data": {
            "text/plain": [
              "<matplotlib.axes._subplots.AxesSubplot at 0x7fa00110a2e8>"
            ]
          },
          "metadata": {
            "tags": []
          },
          "execution_count": 28
        },
        {
          "output_type": "display_data",
          "data": {
            "image/png": "[encoded data removed]",
            "text/plain": [
              "<Figure size 432x288 with 1 Axes>"
            ]
          },
          "metadata": {
            "tags": [],
            "needs_background": "light"
          }
        }
      ]
    },
    {
      "cell_type": "code",
      "metadata": {
        "id": "9q1PlpRhCHLz",
        "colab": {
          "base_uri": "https://localhost:8080/",
          "height": 297
        },
        "outputId": "20dfcf10-5c72-4f27-d6ba-e4f25de4e4c7"
      },
      "source": [
        "sns.scatterplot(x=\"Present_Price\",y=\"Selling_Price\",data=Car)"
      ],
      "execution_count": null,
      "outputs": [
        {
          "output_type": "execute_result",
          "data": {
            "text/plain": [
              "<matplotlib.axes._subplots.AxesSubplot at 0x7fa000f74908>"
            ]
          },
          "metadata": {
            "tags": []
          },
          "execution_count": 29
        },
        {
          "output_type": "display_data",
          "data": {
            "image/png": "[encoded data removed]",
            "text/plain": [
              "<Figure size 432x288 with 1 Axes>"
            ]
          },
          "metadata": {
            "tags": [],
            "needs_background": "light"
          }
        }
      ]
    },
    {
      "cell_type": "code",
      "metadata": {
        "id": "qKgOHJlTXrLs",
        "colab": {
          "base_uri": "https://localhost:8080/",
          "height": 34
        },
        "outputId": "88f47c3a-eae2-4554-be4c-b049bc0ca651"
      },
      "source": [
        "l1 = [1,2,3,99]\n",
        "avg = sum(l1)/len(l1)\n",
        "print(avg)"
      ],
      "execution_count": null,
      "outputs": [
        {
          "output_type": "stream",
          "text": [
            "26.25\n"
          ],
          "name": "stdout"
        }
      ]
    },
    {
      "cell_type": "code",
      "metadata": {
        "id": "1n1Rm0jFzM0_",
        "colab": {
          "base_uri": "https://localhost:8080/",
          "height": 297
        },
        "outputId": "0c70e70e-1692-4e80-9413-d349a9d045b8"
      },
      "source": [
        "sns.scatterplot(x=\"Selling_Price\",y=\"Kms_Driven\",data=Car)"
      ],
      "execution_count": null,
      "outputs": [
        {
          "output_type": "execute_result",
          "data": {
            "text/plain": [
              "<matplotlib.axes._subplots.AxesSubplot at 0x7fa000f3f940>"
            ]
          },
          "metadata": {
            "tags": []
          },
          "execution_count": 31
        },
        {
          "output_type": "display_data",
          "data": {
            "image/png": "[encoded data removed]",
            "text/plain": [
              "<Figure size 432x288 with 1 Axes>"
            ]
          },
          "metadata": {
            "tags": [],
            "needs_background": "light"
          }
        }
      ]
    },
    {
      "cell_type": "code",
      "metadata": {
        "id": "2Ak_dnKaR2X-",
        "colab": {
          "base_uri": "https://localhost:8080/",
          "height": 419
        },
        "outputId": "43f289a0-bc01-4c0f-d3c3-73cb727c1b4d"
      },
      "source": [
        "# Creating dummy variables\n",
        "Fuel  = pd.get_dummies(Car.Fuel_Type)\n",
        "Fuel"
      ],
      "execution_count": null,
      "outputs": [
        {
          "output_type": "execute_result",
          "data": {
            "text/html": [
              "<div>\n",
              "<style scoped>\n",
              "    .dataframe tbody tr th:only-of-type {\n",
              "        vertical-align: middle;\n",
              "    }\n",
              "\n",
              "    .dataframe tbody tr th {\n",
              "        vertical-align: top;\n",
              "    }\n",
              "\n",
              "    .dataframe thead th {\n",
              "        text-align: right;\n",
              "    }\n",
              "</style>\n",
              "<table border=\"1\" class=\"dataframe\">\n",
              "  <thead>\n",
              "    <tr style=\"text-align: right;\">\n",
              "      <th></th>\n",
              "      <th>CNG</th>\n",
              "      <th>Diesel</th>\n",
              "      <th>Petrol</th>\n",
              "    </tr>\n",
              "  </thead>\n",
              "  <tbody>\n",
              "    <tr>\n",
              "      <th>0</th>\n",
              "      <td>0</td>\n",
              "      <td>0</td>\n",
              "      <td>1</td>\n",
              "    </tr>\n",
              "    <tr>\n",
              "      <th>1</th>\n",
              "      <td>0</td>\n",
              "      <td>1</td>\n",
              "      <td>0</td>\n",
              "    </tr>\n",
              "    <tr>\n",
              "      <th>2</th>\n",
              "      <td>0</td>\n",
              "      <td>0</td>\n",
              "      <td>1</td>\n",
              "    </tr>\n",
              "    <tr>\n",
              "      <th>3</th>\n",
              "      <td>0</td>\n",
              "      <td>0</td>\n",
              "      <td>1</td>\n",
              "    </tr>\n",
              "    <tr>\n",
              "      <th>4</th>\n",
              "      <td>0</td>\n",
              "      <td>1</td>\n",
              "      <td>0</td>\n",
              "    </tr>\n",
              "    <tr>\n",
              "      <th>...</th>\n",
              "      <td>...</td>\n",
              "      <td>...</td>\n",
              "      <td>...</td>\n",
              "    </tr>\n",
              "    <tr>\n",
              "      <th>296</th>\n",
              "      <td>0</td>\n",
              "      <td>1</td>\n",
              "      <td>0</td>\n",
              "    </tr>\n",
              "    <tr>\n",
              "      <th>297</th>\n",
              "      <td>0</td>\n",
              "      <td>0</td>\n",
              "      <td>1</td>\n",
              "    </tr>\n",
              "    <tr>\n",
              "      <th>298</th>\n",
              "      <td>0</td>\n",
              "      <td>0</td>\n",
              "      <td>1</td>\n",
              "    </tr>\n",
              "    <tr>\n",
              "      <th>299</th>\n",
              "      <td>0</td>\n",
              "      <td>1</td>\n",
              "      <td>0</td>\n",
              "    </tr>\n",
              "    <tr>\n",
              "      <th>300</th>\n",
              "      <td>0</td>\n",
              "      <td>0</td>\n",
              "      <td>1</td>\n",
              "    </tr>\n",
              "  </tbody>\n",
              "</table>\n",
              "<p>301 rows × 3 columns</p>\n",
              "</div>"
            ],
            "text/plain": [
              "     CNG  Diesel  Petrol\n",
              "0      0       0       1\n",
              "1      0       1       0\n",
              "2      0       0       1\n",
              "3      0       0       1\n",
              "4      0       1       0\n",
              "..   ...     ...     ...\n",
              "296    0       1       0\n",
              "297    0       0       1\n",
              "298    0       0       1\n",
              "299    0       1       0\n",
              "300    0       0       1\n",
              "\n",
              "[301 rows x 3 columns]"
            ]
          },
          "metadata": {
            "tags": []
          },
          "execution_count": 32
        }
      ]
    },
    {
      "cell_type": "code",
      "metadata": {
        "id": "GTarQauwBByb"
      },
      "source": [
        "# map Transmission and Seller_type categores to 0 and 1\n",
        "Car[\"transmission\"] = Car[\"Transmission\"].map({\"Automatic\":0,\"Manual\":1}).astype(int)\n",
        "Car[\"seller\"] = Car[\"Seller_Type\"].map({\"Individual\":0,\"Dealer\":1}).astype(int)"
      ],
      "execution_count": null,
      "outputs": []
    },
    {
      "cell_type": "code",
      "metadata": {
        "id": "HVLzgViwSU-v",
        "colab": {
          "base_uri": "https://localhost:8080/",
          "height": 224
        },
        "outputId": "965844a6-5fef-4566-b16a-090b0b58bfd9"
      },
      "source": [
        "Car1=pd.concat([Car,Fuel],axis=1)\n",
        "Car1.head()"
      ],
      "execution_count": null,
      "outputs": [
        {
          "output_type": "execute_result",
          "data": {
            "text/html": [
              "<div>\n",
              "<style scoped>\n",
              "    .dataframe tbody tr th:only-of-type {\n",
              "        vertical-align: middle;\n",
              "    }\n",
              "\n",
              "    .dataframe tbody tr th {\n",
              "        vertical-align: top;\n",
              "    }\n",
              "\n",
              "    .dataframe thead th {\n",
              "        text-align: right;\n",
              "    }\n",
              "</style>\n",
              "<table border=\"1\" class=\"dataframe\">\n",
              "  <thead>\n",
              "    <tr style=\"text-align: right;\">\n",
              "      <th></th>\n",
              "      <th>Car_Name</th>\n",
              "      <th>Year</th>\n",
              "      <th>Selling_Price</th>\n",
              "      <th>Present_Price</th>\n",
              "      <th>Kms_Driven</th>\n",
              "      <th>Fuel_Type</th>\n",
              "      <th>Seller_Type</th>\n",
              "      <th>Transmission</th>\n",
              "      <th>Owner</th>\n",
              "      <th>transmission</th>\n",
              "      <th>seller</th>\n",
              "      <th>CNG</th>\n",
              "      <th>Diesel</th>\n",
              "      <th>Petrol</th>\n",
              "    </tr>\n",
              "  </thead>\n",
              "  <tbody>\n",
              "    <tr>\n",
              "      <th>0</th>\n",
              "      <td>ritz</td>\n",
              "      <td>2014</td>\n",
              "      <td>3.35</td>\n",
              "      <td>5.59</td>\n",
              "      <td>27000</td>\n",
              "      <td>Petrol</td>\n",
              "      <td>Dealer</td>\n",
              "      <td>Manual</td>\n",
              "      <td>0</td>\n",
              "      <td>1</td>\n",
              "      <td>1</td>\n",
              "      <td>0</td>\n",
              "      <td>0</td>\n",
              "      <td>1</td>\n",
              "    </tr>\n",
              "    <tr>\n",
              "      <th>1</th>\n",
              "      <td>sx4</td>\n",
              "      <td>2013</td>\n",
              "      <td>4.75</td>\n",
              "      <td>9.54</td>\n",
              "      <td>43000</td>\n",
              "      <td>Diesel</td>\n",
              "      <td>Dealer</td>\n",
              "      <td>Manual</td>\n",
              "      <td>0</td>\n",
              "      <td>1</td>\n",
              "      <td>1</td>\n",
              "      <td>0</td>\n",
              "      <td>1</td>\n",
              "      <td>0</td>\n",
              "    </tr>\n",
              "    <tr>\n",
              "      <th>2</th>\n",
              "      <td>ciaz</td>\n",
              "      <td>2017</td>\n",
              "      <td>7.25</td>\n",
              "      <td>9.85</td>\n",
              "      <td>6900</td>\n",
              "      <td>Petrol</td>\n",
              "      <td>Dealer</td>\n",
              "      <td>Manual</td>\n",
              "      <td>0</td>\n",
              "      <td>1</td>\n",
              "      <td>1</td>\n",
              "      <td>0</td>\n",
              "      <td>0</td>\n",
              "      <td>1</td>\n",
              "    </tr>\n",
              "    <tr>\n",
              "      <th>3</th>\n",
              "      <td>wagon r</td>\n",
              "      <td>2011</td>\n",
              "      <td>2.85</td>\n",
              "      <td>4.15</td>\n",
              "      <td>5200</td>\n",
              "      <td>Petrol</td>\n",
              "      <td>Dealer</td>\n",
              "      <td>Manual</td>\n",
              "      <td>0</td>\n",
              "      <td>1</td>\n",
              "      <td>1</td>\n",
              "      <td>0</td>\n",
              "      <td>0</td>\n",
              "      <td>1</td>\n",
              "    </tr>\n",
              "    <tr>\n",
              "      <th>4</th>\n",
              "      <td>swift</td>\n",
              "      <td>2014</td>\n",
              "      <td>4.60</td>\n",
              "      <td>6.87</td>\n",
              "      <td>42450</td>\n",
              "      <td>Diesel</td>\n",
              "      <td>Dealer</td>\n",
              "      <td>Manual</td>\n",
              "      <td>0</td>\n",
              "      <td>1</td>\n",
              "      <td>1</td>\n",
              "      <td>0</td>\n",
              "      <td>1</td>\n",
              "      <td>0</td>\n",
              "    </tr>\n",
              "  </tbody>\n",
              "</table>\n",
              "</div>"
            ],
            "text/plain": [
              "  Car_Name  Year  Selling_Price  Present_Price  ...  seller CNG Diesel Petrol\n",
              "0     ritz  2014           3.35           5.59  ...       1   0      0      1\n",
              "1      sx4  2013           4.75           9.54  ...       1   0      1      0\n",
              "2     ciaz  2017           7.25           9.85  ...       1   0      0      1\n",
              "3  wagon r  2011           2.85           4.15  ...       1   0      0      1\n",
              "4    swift  2014           4.60           6.87  ...       1   0      1      0\n",
              "\n",
              "[5 rows x 14 columns]"
            ]
          },
          "metadata": {
            "tags": []
          },
          "execution_count": 34
        }
      ]
    },
    {
      "cell_type": "code",
      "metadata": {
        "id": "03pykM66TjJF"
      },
      "source": [
        "Car1= Car1.drop([\"Car_Name\",\"Fuel_Type\",\"Transmission\",\"Seller_Type\"],axis=1)"
      ],
      "execution_count": null,
      "outputs": []
    },
    {
      "cell_type": "code",
      "metadata": {
        "id": "hTn9GMZ4TzBc",
        "colab": {
          "base_uri": "https://localhost:8080/",
          "height": 359
        },
        "outputId": "fabbe52e-3cfe-490d-cafb-70f6e871e103"
      },
      "source": [
        "Car1.head().T\n",
        "\n"
      ],
      "execution_count": null,
      "outputs": [
        {
          "output_type": "execute_result",
          "data": {
            "text/html": [
              "<div>\n",
              "<style scoped>\n",
              "    .dataframe tbody tr th:only-of-type {\n",
              "        vertical-align: middle;\n",
              "    }\n",
              "\n",
              "    .dataframe tbody tr th {\n",
              "        vertical-align: top;\n",
              "    }\n",
              "\n",
              "    .dataframe thead th {\n",
              "        text-align: right;\n",
              "    }\n",
              "</style>\n",
              "<table border=\"1\" class=\"dataframe\">\n",
              "  <thead>\n",
              "    <tr style=\"text-align: right;\">\n",
              "      <th></th>\n",
              "      <th>0</th>\n",
              "      <th>1</th>\n",
              "      <th>2</th>\n",
              "      <th>3</th>\n",
              "      <th>4</th>\n",
              "    </tr>\n",
              "  </thead>\n",
              "  <tbody>\n",
              "    <tr>\n",
              "      <th>Year</th>\n",
              "      <td>2014.00</td>\n",
              "      <td>2013.00</td>\n",
              "      <td>2017.00</td>\n",
              "      <td>2011.00</td>\n",
              "      <td>2014.00</td>\n",
              "    </tr>\n",
              "    <tr>\n",
              "      <th>Selling_Price</th>\n",
              "      <td>3.35</td>\n",
              "      <td>4.75</td>\n",
              "      <td>7.25</td>\n",
              "      <td>2.85</td>\n",
              "      <td>4.60</td>\n",
              "    </tr>\n",
              "    <tr>\n",
              "      <th>Present_Price</th>\n",
              "      <td>5.59</td>\n",
              "      <td>9.54</td>\n",
              "      <td>9.85</td>\n",
              "      <td>4.15</td>\n",
              "      <td>6.87</td>\n",
              "    </tr>\n",
              "    <tr>\n",
              "      <th>Kms_Driven</th>\n",
              "      <td>27000.00</td>\n",
              "      <td>43000.00</td>\n",
              "      <td>6900.00</td>\n",
              "      <td>5200.00</td>\n",
              "      <td>42450.00</td>\n",
              "    </tr>\n",
              "    <tr>\n",
              "      <th>Owner</th>\n",
              "      <td>0.00</td>\n",
              "      <td>0.00</td>\n",
              "      <td>0.00</td>\n",
              "      <td>0.00</td>\n",
              "      <td>0.00</td>\n",
              "    </tr>\n",
              "    <tr>\n",
              "      <th>transmission</th>\n",
              "      <td>1.00</td>\n",
              "      <td>1.00</td>\n",
              "      <td>1.00</td>\n",
              "      <td>1.00</td>\n",
              "      <td>1.00</td>\n",
              "    </tr>\n",
              "    <tr>\n",
              "      <th>seller</th>\n",
              "      <td>1.00</td>\n",
              "      <td>1.00</td>\n",
              "      <td>1.00</td>\n",
              "      <td>1.00</td>\n",
              "      <td>1.00</td>\n",
              "    </tr>\n",
              "    <tr>\n",
              "      <th>CNG</th>\n",
              "      <td>0.00</td>\n",
              "      <td>0.00</td>\n",
              "      <td>0.00</td>\n",
              "      <td>0.00</td>\n",
              "      <td>0.00</td>\n",
              "    </tr>\n",
              "    <tr>\n",
              "      <th>Diesel</th>\n",
              "      <td>0.00</td>\n",
              "      <td>1.00</td>\n",
              "      <td>0.00</td>\n",
              "      <td>0.00</td>\n",
              "      <td>1.00</td>\n",
              "    </tr>\n",
              "    <tr>\n",
              "      <th>Petrol</th>\n",
              "      <td>1.00</td>\n",
              "      <td>0.00</td>\n",
              "      <td>1.00</td>\n",
              "      <td>1.00</td>\n",
              "      <td>0.00</td>\n",
              "    </tr>\n",
              "  </tbody>\n",
              "</table>\n",
              "</div>"
            ],
            "text/plain": [
              "                      0         1        2        3         4\n",
              "Year            2014.00   2013.00  2017.00  2011.00   2014.00\n",
              "Selling_Price      3.35      4.75     7.25     2.85      4.60\n",
              "Present_Price      5.59      9.54     9.85     4.15      6.87\n",
              "Kms_Driven     27000.00  43000.00  6900.00  5200.00  42450.00\n",
              "Owner              0.00      0.00     0.00     0.00      0.00\n",
              "transmission       1.00      1.00     1.00     1.00      1.00\n",
              "seller             1.00      1.00     1.00     1.00      1.00\n",
              "CNG                0.00      0.00     0.00     0.00      0.00\n",
              "Diesel             0.00      1.00     0.00     0.00      1.00\n",
              "Petrol             1.00      0.00     1.00     1.00      0.00"
            ]
          },
          "metadata": {
            "tags": []
          },
          "execution_count": 36
        }
      ]
    },
    {
      "cell_type": "code",
      "metadata": {
        "id": "s6529ozkHx16",
        "colab": {
          "base_uri": "https://localhost:8080/",
          "height": 632
        },
        "outputId": "cf8db59a-bb13-4374-fd0e-96eb791c0737"
      },
      "source": [
        "  import statsmodels.formula.api as sm\n",
        "model = sm.ols(formula='Selling_Price ~ Present_Price + Kms_Driven + Year + seller + Owner + transmission + CNG + Diesel + Petrol', data=Car1)\n",
        "fitted2 = model.fit()\n",
        "print(fitted2.summary())"
      ],
      "execution_count": null,
      "outputs": [
        {
          "output_type": "stream",
          "text": [
            "                            OLS Regression Results                            \n",
            "==============================================================================\n",
            "Dep. Variable:          Selling_Price   R-squared:                       0.883\n",
            "Model:                            OLS   Adj. R-squared:                  0.879\n",
            "Method:                 Least Squares   F-statistic:                     274.3\n",
            "Date:                Mon, 31 Aug 2020   Prob (F-statistic):          5.71e-131\n",
            "Time:                        15:07:51   Log-Likelihood:                -593.62\n",
            "No. Observations:                 301   AIC:                             1205.\n",
            "Df Residuals:                     292   BIC:                             1239.\n",
            "Df Model:                           8                                         \n",
            "Covariance Type:            nonrobust                                         \n",
            "=================================================================================\n",
            "                    coef    std err          t      P>|t|      [0.025      0.975]\n",
            "---------------------------------------------------------------------------------\n",
            "Intercept      -591.9990     64.892     -9.123      0.000    -719.715    -464.283\n",
            "Present_Price     0.4372      0.016     27.355      0.000       0.406       0.469\n",
            "Kms_Driven    -7.013e-06   3.23e-06     -2.172      0.031   -1.34e-05   -6.57e-07\n",
            "Year              0.3931      0.043      9.159      0.000       0.309       0.478\n",
            "seller            1.1213      0.257      4.371      0.000       0.616       1.626\n",
            "Owner            -0.6742      0.423     -1.595      0.112      -1.506       0.158\n",
            "transmission     -1.4482      0.328     -4.417      0.000      -2.093      -0.803\n",
            "CNG            -198.3589     21.627     -9.172      0.000    -240.924    -155.794\n",
            "Diesel         -195.8889     21.670     -9.040      0.000    -238.538    -153.240\n",
            "Petrol         -197.7512     21.620     -9.146      0.000    -240.303    -155.199\n",
            "==============================================================================\n",
            "Omnibus:                       95.107   Durbin-Watson:                   1.795\n",
            "Prob(Omnibus):                  0.000   Jarque-Bera (JB):              696.392\n",
            "Skew:                           1.075   Prob(JB):                    6.03e-152\n",
            "Kurtosis:                      10.135   Cond. No.                     3.35e+20\n",
            "==============================================================================\n",
            "\n",
            "Warnings:\n",
            "[1] Standard Errors assume that the covariance matrix of the errors is correctly specified.\n",
            "[2] The smallest eigenvalue is 7.72e-30. This might indicate that there are\n",
            "strong multicollinearity problems or that the design matrix is singular.\n"
          ],
          "name": "stdout"
        }
      ]
    },
    {
      "cell_type": "code",
      "metadata": {
        "id": "TJi9A_NwX7xR",
        "colab": {
          "base_uri": "https://localhost:8080/",
          "height": 615
        },
        "outputId": "22c00c49-7806-4247-f129-073bd9f23f2a"
      },
      "source": [
        "#Dropping Variabele with more than 5 p-value\n",
        "model = sm.ols(formula='Selling_Price ~ Present_Price + Kms_Driven + Year + seller +  transmission + CNG + Diesel + Petrol', data=Car1)\n",
        "fitted2 = model.fit()\n",
        "print(fitted2.summary())"
      ],
      "execution_count": null,
      "outputs": [
        {
          "output_type": "stream",
          "text": [
            "                            OLS Regression Results                            \n",
            "==============================================================================\n",
            "Dep. Variable:          Selling_Price   R-squared:                       0.882\n",
            "Model:                            OLS   Adj. R-squared:                  0.879\n",
            "Method:                 Least Squares   F-statistic:                     311.5\n",
            "Date:                Mon, 31 Aug 2020   Prob (F-statistic):          1.10e-131\n",
            "Time:                        15:07:57   Log-Likelihood:                -594.93\n",
            "No. Observations:                 301   AIC:                             1206.\n",
            "Df Residuals:                     293   BIC:                             1236.\n",
            "Df Model:                           7                                         \n",
            "Covariance Type:            nonrobust                                         \n",
            "=================================================================================\n",
            "                    coef    std err          t      P>|t|      [0.025      0.975]\n",
            "---------------------------------------------------------------------------------\n",
            "Intercept      -607.0265     64.374     -9.430      0.000    -733.720    -480.333\n",
            "Present_Price     0.4357      0.016     27.237      0.000       0.404       0.467\n",
            "Kms_Driven    -7.004e-06   3.24e-06     -2.163      0.031   -1.34e-05   -6.32e-07\n",
            "Year              0.4030      0.043      9.465      0.000       0.319       0.487\n",
            "seller            1.1731      0.255      4.598      0.000       0.671       1.675\n",
            "transmission     -1.4308      0.329     -4.355      0.000      -2.077      -0.784\n",
            "CNG            -203.3620     21.455     -9.479      0.000    -245.587    -161.137\n",
            "Diesel         -200.8946     21.498     -9.345      0.000    -243.205    -158.585\n",
            "Petrol         -202.7699     21.447     -9.455      0.000    -244.979    -160.561\n",
            "==============================================================================\n",
            "Omnibus:                       93.414   Durbin-Watson:                   1.785\n",
            "Prob(Omnibus):                  0.000   Jarque-Bera (JB):              697.351\n",
            "Skew:                           1.044   Prob(JB):                    3.73e-152\n",
            "Kurtosis:                      10.158   Cond. No.                     3.04e+20\n",
            "==============================================================================\n",
            "\n",
            "Warnings:\n",
            "[1] Standard Errors assume that the covariance matrix of the errors is correctly specified.\n",
            "[2] The smallest eigenvalue is 9.36e-30. This might indicate that there are\n",
            "strong multicollinearity problems or that the design matrix is singular.\n"
          ],
          "name": "stdout"
        }
      ]
    },
    {
      "cell_type": "code",
      "metadata": {
        "id": "jn28KZjpi6Lh"
      },
      "source": [
        "def vif_cal(input_data, dependent_col):\n",
        "    x_vars=input_data.drop([dependent_col], axis=1)\n",
        "    xvar_names=x_vars.columns\n",
        "    for i in range(0,xvar_names.shape[0]):\n",
        "        y=x_vars[xvar_names[i]] \n",
        "        x=x_vars[xvar_names.drop(xvar_names[i])]\n",
        "        rsq=sm.ols(formula=\"y~x\", data=x_vars).fit().rsquared  \n",
        "        vif=round(1/(1-rsq),2)\n",
        "        print (xvar_names[i], \" VIF = \" , vif)"
      ],
      "execution_count": null,
      "outputs": []
    },
    {
      "cell_type": "code",
      "metadata": {
        "id": "ueQHkPOlKvr6",
        "colab": {
          "base_uri": "https://localhost:8080/",
          "height": 224
        },
        "outputId": "7f9708f3-26cd-40dd-fa3b-0bf712015c76"
      },
      "source": [
        "vif_cal(input_data=Car1, dependent_col=\"Selling_Price\")"
      ],
      "execution_count": null,
      "outputs": [
        {
          "output_type": "stream",
          "text": [
            "Year  VIF =  1.48\n",
            "Present_Price  VIF =  1.84\n",
            "Kms_Driven  VIF =  1.52\n",
            "Owner  VIF =  1.06\n",
            "transmission  VIF =  1.2\n",
            "seller  VIF =  1.45\n",
            "CNG  VIF =  inf\n",
            "Diesel  VIF =  inf\n",
            "Petrol  VIF =  inf\n"
          ],
          "name": "stdout"
        },
        {
          "output_type": "stream",
          "text": [
            "/usr/local/lib/python3.6/dist-packages/ipykernel_launcher.py:8: RuntimeWarning: divide by zero encountered in double_scalars\n",
            "  \n"
          ],
          "name": "stderr"
        }
      ]
    },
    {
      "cell_type": "code",
      "metadata": {
        "id": "csyC5JhqUqCq",
        "colab": {
          "base_uri": "https://localhost:8080/",
          "height": 153
        },
        "outputId": "d1f4a972-b879-4de8-a3a1-880612daad64"
      },
      "source": [
        "vif_cal(input_data=Car1.drop([\"CNG\"], axis=1), dependent_col=\"Selling_Price\")"
      ],
      "execution_count": null,
      "outputs": [
        {
          "output_type": "stream",
          "text": [
            "Year  VIF =  1.48\n",
            "Present_Price  VIF =  1.84\n",
            "Kms_Driven  VIF =  1.52\n",
            "Owner  VIF =  1.06\n",
            "transmission  VIF =  1.2\n",
            "seller  VIF =  1.45\n",
            "Diesel  VIF =  25.18\n",
            "Petrol  VIF =  25.03\n"
          ],
          "name": "stdout"
        }
      ]
    },
    {
      "cell_type": "code",
      "metadata": {
        "id": "Fu1OD4C3Z34z",
        "colab": {
          "base_uri": "https://localhost:8080/",
          "height": 136
        },
        "outputId": "e180c484-80fa-483e-f4d0-4bbadac29834"
      },
      "source": [
        "vif_cal(input_data=Car1.drop([\"CNG\",\"Petrol\"], axis=1), dependent_col=\"Selling_Price\")"
      ],
      "execution_count": null,
      "outputs": [
        {
          "output_type": "stream",
          "text": [
            "Year  VIF =  1.48\n",
            "Present_Price  VIF =  1.84\n",
            "Kms_Driven  VIF =  1.52\n",
            "Owner  VIF =  1.06\n",
            "transmission  VIF =  1.2\n",
            "seller  VIF =  1.44\n",
            "Diesel  VIF =  1.37\n"
          ],
          "name": "stdout"
        }
      ]
    },
    {
      "cell_type": "code",
      "metadata": {
        "id": "hRG9C_IvCB8Z",
        "colab": {
          "base_uri": "https://localhost:8080/",
          "height": 615
        },
        "outputId": "17a1b032-1f00-454c-96cf-8bea58ea9544"
      },
      "source": [
        "Final_Model = sm.ols(formula='Selling_Price ~ Present_Price + Kms_Driven + Year + seller + Owner + transmission + Diesel', data=Car1)\n",
        "fitted2 = model.fit()\n",
        "print(fitted2.summary())"
      ],
      "execution_count": null,
      "outputs": [
        {
          "output_type": "stream",
          "text": [
            "                            OLS Regression Results                            \n",
            "==============================================================================\n",
            "Dep. Variable:          Selling_Price   R-squared:                       0.882\n",
            "Model:                            OLS   Adj. R-squared:                  0.879\n",
            "Method:                 Least Squares   F-statistic:                     311.5\n",
            "Date:                Mon, 31 Aug 2020   Prob (F-statistic):          1.10e-131\n",
            "Time:                        15:08:17   Log-Likelihood:                -594.93\n",
            "No. Observations:                 301   AIC:                             1206.\n",
            "Df Residuals:                     293   BIC:                             1236.\n",
            "Df Model:                           7                                         \n",
            "Covariance Type:            nonrobust                                         \n",
            "=================================================================================\n",
            "                    coef    std err          t      P>|t|      [0.025      0.975]\n",
            "---------------------------------------------------------------------------------\n",
            "Intercept      -607.0265     64.374     -9.430      0.000    -733.720    -480.333\n",
            "Present_Price     0.4357      0.016     27.237      0.000       0.404       0.467\n",
            "Kms_Driven    -7.004e-06   3.24e-06     -2.163      0.031   -1.34e-05   -6.32e-07\n",
            "Year              0.4030      0.043      9.465      0.000       0.319       0.487\n",
            "seller            1.1731      0.255      4.598      0.000       0.671       1.675\n",
            "transmission     -1.4308      0.329     -4.355      0.000      -2.077      -0.784\n",
            "CNG            -203.3620     21.455     -9.479      0.000    -245.587    -161.137\n",
            "Diesel         -200.8946     21.498     -9.345      0.000    -243.205    -158.585\n",
            "Petrol         -202.7699     21.447     -9.455      0.000    -244.979    -160.561\n",
            "==============================================================================\n",
            "Omnibus:                       93.414   Durbin-Watson:                   1.785\n",
            "Prob(Omnibus):                  0.000   Jarque-Bera (JB):              697.351\n",
            "Skew:                           1.044   Prob(JB):                    3.73e-152\n",
            "Kurtosis:                      10.158   Cond. No.                     3.04e+20\n",
            "==============================================================================\n",
            "\n",
            "Warnings:\n",
            "[1] Standard Errors assume that the covariance matrix of the errors is correctly specified.\n",
            "[2] The smallest eigenvalue is 9.36e-30. This might indicate that there are\n",
            "strong multicollinearity problems or that the design matrix is singular.\n"
          ],
          "name": "stdout"
        }
      ]
    },
    {
      "cell_type": "code",
      "metadata": {
        "id": "NWltVL8AUJo7"
      },
      "source": [
        "#the conclusion that can be drawn that, Final_model is the the best model to predict the selling price of cars "
      ],
      "execution_count": null,
      "outputs": []
    }
  ]
}