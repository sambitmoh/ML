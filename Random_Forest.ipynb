{
  "nbformat": 4,
  "nbformat_minor": 0,
  "metadata": {
    "colab": {
      "name": "Random_Forest.ipynb",
      "provenance": [],
      "collapsed_sections": [],
      "toc_visible": true
    },
    "kernelspec": {
      "name": "python3",
      "display_name": "Python 3"
    }
  },
  "cells": [
    {
      "cell_type": "code",
      "metadata": {
        "id": "dj4bxa8oZzm3"
      },
      "source": [
        "import pandas as pd\n",
        "import sklearn as sk\n",
        "import numpy as np\n",
        "import scipy as sp\n",
        "from sklearn import tree\n",
        "from sklearn.metrics import confusion_matrix"
      ],
      "execution_count": 1,
      "outputs": []
    },
    {
      "cell_type": "markdown",
      "metadata": {
        "id": "omM157oCbGcW"
      },
      "source": [
        "# Data Importing"
      ]
    },
    {
      "cell_type": "code",
      "metadata": {
        "id": "wJYigzwabIDz"
      },
      "source": [
        "#Importing dataset\n",
        "car_train=pd.read_csv(\"https://raw.githubusercontent.com/venkatareddykonasani/Datasets/master/Car_Accidents_IOT/train.csv\")\n",
        "car_test=pd.read_csv(\"https://raw.githubusercontent.com/venkatareddykonasani/Datasets/master/Car_Accidents_IOT/test.csv\")"
      ],
      "execution_count": 2,
      "outputs": []
    },
    {
      "cell_type": "code",
      "metadata": {
        "id": "izR7T47Rbb6A"
      },
      "source": [
        "features=list(car_train.columns[1:])\n",
        "X_train=car_train[features]\n",
        "y_train=car_train['Fatal']"
      ],
      "execution_count": 3,
      "outputs": []
    },
    {
      "cell_type": "markdown",
      "metadata": {
        "id": "4K_JxfP0dChn"
      },
      "source": [
        "# Decision Tree"
      ]
    },
    {
      "cell_type": "code",
      "metadata": {
        "id": "dJhItjF9bqvh",
        "colab": {
          "base_uri": "https://localhost:8080/"
        },
        "outputId": "6d134214-a848-4d92-dee3-e74b34447cd5"
      },
      "source": [
        "###buildng Decision tree on the training data ####\n",
        "clf = tree.DecisionTreeClassifier(max_depth=6)\n",
        "clf.fit(X_train,y_train)"
      ],
      "execution_count": 4,
      "outputs": [
        {
          "output_type": "execute_result",
          "data": {
            "text/plain": [
              "DecisionTreeClassifier(ccp_alpha=0.0, class_weight=None, criterion='gini',\n",
              "                       max_depth=6, max_features=None, max_leaf_nodes=None,\n",
              "                       min_impurity_decrease=0.0, min_impurity_split=None,\n",
              "                       min_samples_leaf=1, min_samples_split=2,\n",
              "                       min_weight_fraction_leaf=0.0, presort='deprecated',\n",
              "                       random_state=None, splitter='best')"
            ]
          },
          "metadata": {
            "tags": []
          },
          "execution_count": 4
        }
      ]
    },
    {
      "cell_type": "markdown",
      "metadata": {
        "id": "9Y8bpqLY-IvU"
      },
      "source": [
        "## Decision Tree Results"
      ]
    },
    {
      "cell_type": "code",
      "metadata": {
        "id": "YTjvP9WrbwXG",
        "colab": {
          "base_uri": "https://localhost:8080/"
        },
        "outputId": "3bfb510a-9b40-4e8d-af7c-d6330f308064"
      },
      "source": [
        "#####predicting on test data ####\n",
        "tree_predict_train=clf.predict(car_train[features])\n",
        "tree_predict=clf.predict(car_test[features])\n",
        "\n",
        "########Train Data Validation\n",
        "cm1 = confusion_matrix(car_train[['Fatal']],tree_predict_train)\n",
        "print(\"Confusion Matrix for Train data \\n\", cm1)\n",
        "total1=sum(sum(cm1))\n",
        "accuracy_tree=(cm1[0,0]+cm1[1,1])/total1\n",
        "print(\"Accuracy of Train data \\n\", accuracy_tree)\n",
        "\n",
        "########Test Data Validation\n",
        "cm1 = confusion_matrix(car_test[['Fatal']],tree_predict)\n",
        "print(\"Confusion Matrix for test data \\n\", cm1)\n",
        "total1=sum(sum(cm1))\n",
        "accuracy_tree=(cm1[0,0]+cm1[1,1])/total1\n",
        "print(\"Accuracy of test data \\n\", accuracy_tree)\n"
      ],
      "execution_count": 5,
      "outputs": [
        {
          "output_type": "stream",
          "text": [
            "Confusion Matrix for Train data \n",
            " [[4940 1376]\n",
            " [ 688 8105]]\n",
            "Accuracy of Train data \n",
            " 0.8633926798596863\n",
            "Confusion Matrix for test data \n",
            " [[2980  912]\n",
            " [ 389 4784]]\n",
            "Accuracy of test data \n",
            " 0.8564809707666851\n"
          ],
          "name": "stdout"
        }
      ]
    },
    {
      "cell_type": "markdown",
      "metadata": {
        "id": "HdfoCDGMdEt9"
      },
      "source": [
        "# Random Forest"
      ]
    },
    {
      "cell_type": "code",
      "metadata": {
        "id": "ipF3dylWb5k4",
        "colab": {
          "base_uri": "https://localhost:8080/"
        },
        "outputId": "c831a67f-9c30-4af7-ef13-90e48943bb1e"
      },
      "source": [
        "from sklearn.ensemble import RandomForestClassifier\n",
        "forest=RandomForestClassifier(n_estimators=20, max_features=4, max_depth=6)\n",
        "forest.fit(X_train,y_train)"
      ],
      "execution_count": 6,
      "outputs": [
        {
          "output_type": "execute_result",
          "data": {
            "text/plain": [
              "RandomForestClassifier(bootstrap=True, ccp_alpha=0.0, class_weight=None,\n",
              "                       criterion='gini', max_depth=6, max_features=4,\n",
              "                       max_leaf_nodes=None, max_samples=None,\n",
              "                       min_impurity_decrease=0.0, min_impurity_split=None,\n",
              "                       min_samples_leaf=1, min_samples_split=2,\n",
              "                       min_weight_fraction_leaf=0.0, n_estimators=20,\n",
              "                       n_jobs=None, oob_score=False, random_state=None,\n",
              "                       verbose=0, warm_start=False)"
            ]
          },
          "metadata": {
            "tags": []
          },
          "execution_count": 6
        }
      ]
    },
    {
      "cell_type": "markdown",
      "metadata": {
        "id": "pbxslgSs-L6H"
      },
      "source": [
        "## Random Forest Results"
      ]
    },
    {
      "cell_type": "code",
      "metadata": {
        "id": "VW1_MXQTdOoY",
        "colab": {
          "base_uri": "https://localhost:8080/"
        },
        "outputId": "ed1b372a-affb-4de3-8150-063d2d7fa931"
      },
      "source": [
        "#####predicting on test data ####\n",
        "Forest_predict_train=forest.predict(car_train[features])\n",
        "Forest_predict=forest.predict(car_test[features])\n",
        "\n",
        "########Train Data Validation\n",
        "cm1 = confusion_matrix(car_train[['Fatal']],Forest_predict_train)\n",
        "print(\"Confusion Matrix for Train data \\n\", cm1)\n",
        "total1=sum(sum(cm1))\n",
        "accuracy_tree=(cm1[0,0]+cm1[1,1])/total1\n",
        "print(\"Accuracy of Train data \\n\", accuracy_tree)\n",
        "\n",
        "########Test Data Validation\n",
        "cm1 = confusion_matrix(car_test[['Fatal']],Forest_predict)\n",
        "print(\"Confusion Matrix for test data \\n\", cm1)\n",
        "total1=sum(sum(cm1))\n",
        "accuracy_tree=(cm1[0,0]+cm1[1,1])/total1\n",
        "print(\"Accuracy of test data \\n\", accuracy_tree)\n"
      ],
      "execution_count": 7,
      "outputs": [
        {
          "output_type": "stream",
          "text": [
            "Confusion Matrix for Train data \n",
            " [[4752 1564]\n",
            " [ 516 8277]]\n",
            "Accuracy of Train data \n",
            " 0.8623337083857303\n",
            "Confusion Matrix for test data \n",
            " [[2906  986]\n",
            " [ 338 4835]]\n",
            "Accuracy of test data \n",
            " 0.8539437396580254\n"
          ],
          "name": "stdout"
        }
      ]
    }
  ]
}