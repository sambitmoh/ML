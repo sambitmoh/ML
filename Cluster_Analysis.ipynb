{
  "nbformat": 4,
  "nbformat_minor": 0,
  "metadata": {
    "colab": {
      "name": "Cluster Analysis.ipynb",
      "provenance": [],
      "collapsed_sections": []
    },
    "kernelspec": {
      "name": "python3",
      "display_name": "Python 3"
    }
  },
  "cells": [
    {
      "cell_type": "code",
      "metadata": {
        "id": "N_cwTfNyIwta"
      },
      "source": [
        "import pandas as pd\n",
        "import numpy as np\n",
        "import math"
      ],
      "execution_count": 1,
      "outputs": []
    },
    {
      "cell_type": "markdown",
      "metadata": {
        "id": "nnSXodjXItyv"
      },
      "source": [
        "# Distance Matrix"
      ]
    },
    {
      "cell_type": "code",
      "metadata": {
        "id": "HKmCZXfrII9-",
        "colab": {
          "base_uri": "https://localhost:8080/",
          "height": 238
        },
        "outputId": "648371ff-62e6-499a-9940-8b8128c315b9"
      },
      "source": [
        "Credit_Score_Expenses = pd.read_csv(\"https://raw.githubusercontent.com/venkatareddykonasani/Datasets/master/Credit_Score_Expenses/Credit_Score_Expenses.csv\")\n",
        "Credit_Score_Expenses.columns.values\n",
        "print(\"The Data Matrix \\n\")\n",
        "Credit_Score_Expenses"
      ],
      "execution_count": 2,
      "outputs": [
        {
          "output_type": "stream",
          "text": [
            "The Data Matrix \n",
            "\n"
          ],
          "name": "stdout"
        },
        {
          "output_type": "execute_result",
          "data": {
            "text/html": [
              "<div>\n",
              "<style scoped>\n",
              "    .dataframe tbody tr th:only-of-type {\n",
              "        vertical-align: middle;\n",
              "    }\n",
              "\n",
              "    .dataframe tbody tr th {\n",
              "        vertical-align: top;\n",
              "    }\n",
              "\n",
              "    .dataframe thead th {\n",
              "        text-align: right;\n",
              "    }\n",
              "</style>\n",
              "<table border=\"1\" class=\"dataframe\">\n",
              "  <thead>\n",
              "    <tr style=\"text-align: right;\">\n",
              "      <th></th>\n",
              "      <th>Cust_id</th>\n",
              "      <th>Expenses</th>\n",
              "      <th>Credit_score</th>\n",
              "    </tr>\n",
              "  </thead>\n",
              "  <tbody>\n",
              "    <tr>\n",
              "      <th>0</th>\n",
              "      <td>1</td>\n",
              "      <td>49491</td>\n",
              "      <td>869</td>\n",
              "    </tr>\n",
              "    <tr>\n",
              "      <th>1</th>\n",
              "      <td>2</td>\n",
              "      <td>26871</td>\n",
              "      <td>265</td>\n",
              "    </tr>\n",
              "    <tr>\n",
              "      <th>2</th>\n",
              "      <td>3</td>\n",
              "      <td>41310</td>\n",
              "      <td>408</td>\n",
              "    </tr>\n",
              "    <tr>\n",
              "      <th>3</th>\n",
              "      <td>4</td>\n",
              "      <td>28506</td>\n",
              "      <td>474</td>\n",
              "    </tr>\n",
              "    <tr>\n",
              "      <th>4</th>\n",
              "      <td>5</td>\n",
              "      <td>43814</td>\n",
              "      <td>761</td>\n",
              "    </tr>\n",
              "  </tbody>\n",
              "</table>\n",
              "</div>"
            ],
            "text/plain": [
              "   Cust_id  Expenses  Credit_score\n",
              "0        1     49491           869\n",
              "1        2     26871           265\n",
              "2        3     41310           408\n",
              "3        4     28506           474\n",
              "4        5     43814           761"
            ]
          },
          "metadata": {
            "tags": []
          },
          "execution_count": 2
        }
      ]
    },
    {
      "cell_type": "code",
      "metadata": {
        "id": "kiGBqsmqJnwE",
        "colab": {
          "base_uri": "https://localhost:8080/"
        },
        "outputId": "e205fbcb-79bb-4b76-80dc-af3c42c0fe26"
      },
      "source": [
        "# Euclidean Distance Caculator\n",
        "def distance_matrix(data_frame):\n",
        "    import numpy as np\n",
        "    result_distance=np.zeros((data_frame.shape[0],data_frame.shape[0]))\n",
        "    for i in range(0 , data_frame.shape[0]):\n",
        "        for j in range(0 , data_frame.shape[0]):\n",
        "            result_distance[i,j]=round(math.sqrt(sum((data_frame.iloc[i] - data_frame.iloc[j])**2)),1)\n",
        "    result_distance_df=pd.DataFrame(result_distance)\n",
        "    print(result_distance_df)\n",
        "\n",
        "print(\"The Distance Matrix \\n\")\n",
        "distance_matrix(Credit_Score_Expenses)"
      ],
      "execution_count": 3,
      "outputs": [
        {
          "output_type": "stream",
          "text": [
            "The Distance Matrix \n",
            "\n",
            "         0        1        2        3        4\n",
            "0      0.0  22628.1   8194.0  20988.7   5678.0\n",
            "1  22628.1      0.0  14439.7   1648.3  16950.3\n",
            "2   8194.0  14439.7      0.0  12804.2   2528.8\n",
            "3  20988.7   1648.3  12804.2      0.0  15310.7\n",
            "4   5678.0  16950.3   2528.8  15310.7      0.0\n"
          ],
          "name": "stdout"
        }
      ]
    },
    {
      "cell_type": "markdown",
      "metadata": {
        "id": "ozUB7HOdKFy0"
      },
      "source": [
        "# Clustering on Super market Data"
      ]
    },
    {
      "cell_type": "code",
      "metadata": {
        "id": "JwKTrWjeJr52",
        "colab": {
          "base_uri": "https://localhost:8080/",
          "height": 221
        },
        "outputId": "795f635e-681c-437b-f46c-8bdadf2d0e0a"
      },
      "source": [
        "#Cluster Analysis\n",
        "sup_market = pd.read_csv(\"https://raw.githubusercontent.com/venkatareddykonasani/Datasets/master/Super%20Market%20Coupons/Super_market_Coupons.csv\")\n",
        "print(sup_market.shape)\n",
        "sup_market.head()\n"
      ],
      "execution_count": 4,
      "outputs": [
        {
          "output_type": "stream",
          "text": [
            "(3000, 6)\n"
          ],
          "name": "stdout"
        },
        {
          "output_type": "execute_result",
          "data": {
            "text/html": [
              "<div>\n",
              "<style scoped>\n",
              "    .dataframe tbody tr th:only-of-type {\n",
              "        vertical-align: middle;\n",
              "    }\n",
              "\n",
              "    .dataframe tbody tr th {\n",
              "        vertical-align: top;\n",
              "    }\n",
              "\n",
              "    .dataframe thead th {\n",
              "        text-align: right;\n",
              "    }\n",
              "</style>\n",
              "<table border=\"1\" class=\"dataframe\">\n",
              "  <thead>\n",
              "    <tr style=\"text-align: right;\">\n",
              "      <th></th>\n",
              "      <th>cust_id</th>\n",
              "      <th>age</th>\n",
              "      <th>Estimated_income</th>\n",
              "      <th>recent_spends</th>\n",
              "      <th>family_size</th>\n",
              "      <th>Avg_visits_permonth</th>\n",
              "    </tr>\n",
              "  </thead>\n",
              "  <tbody>\n",
              "    <tr>\n",
              "      <th>0</th>\n",
              "      <td>1</td>\n",
              "      <td>30</td>\n",
              "      <td>3300</td>\n",
              "      <td>771.572261</td>\n",
              "      <td>1</td>\n",
              "      <td>4</td>\n",
              "    </tr>\n",
              "    <tr>\n",
              "      <th>1</th>\n",
              "      <td>2</td>\n",
              "      <td>46</td>\n",
              "      <td>12454</td>\n",
              "      <td>128.922027</td>\n",
              "      <td>3</td>\n",
              "      <td>3</td>\n",
              "    </tr>\n",
              "    <tr>\n",
              "      <th>2</th>\n",
              "      <td>3</td>\n",
              "      <td>76</td>\n",
              "      <td>0</td>\n",
              "      <td>0.000000</td>\n",
              "      <td>1</td>\n",
              "      <td>8</td>\n",
              "    </tr>\n",
              "    <tr>\n",
              "      <th>3</th>\n",
              "      <td>4</td>\n",
              "      <td>38</td>\n",
              "      <td>3000</td>\n",
              "      <td>76.967031</td>\n",
              "      <td>3</td>\n",
              "      <td>3</td>\n",
              "    </tr>\n",
              "    <tr>\n",
              "      <th>4</th>\n",
              "      <td>5</td>\n",
              "      <td>39</td>\n",
              "      <td>2500</td>\n",
              "      <td>2499.999750</td>\n",
              "      <td>1</td>\n",
              "      <td>1</td>\n",
              "    </tr>\n",
              "  </tbody>\n",
              "</table>\n",
              "</div>"
            ],
            "text/plain": [
              "   cust_id  age  ...  family_size  Avg_visits_permonth\n",
              "0        1   30  ...            1                    4\n",
              "1        2   46  ...            3                    3\n",
              "2        3   76  ...            1                    8\n",
              "3        4   38  ...            3                    3\n",
              "4        5   39  ...            1                    1\n",
              "\n",
              "[5 rows x 6 columns]"
            ]
          },
          "metadata": {
            "tags": []
          },
          "execution_count": 4
        }
      ]
    },
    {
      "cell_type": "markdown",
      "metadata": {
        "id": "-1-SzHjsKemi"
      },
      "source": [
        "## Model building"
      ]
    },
    {
      "cell_type": "code",
      "metadata": {
        "id": "Jn73fk7iKXpX"
      },
      "source": [
        "from sklearn.cluster import KMeans\n",
        "kmeans_model = KMeans(n_clusters=5,  random_state=333) # Mention the Number of clusters\n",
        "X=sup_market.drop([\"cust_id\"],axis=1) # Custid is not needed\n",
        "kmeans_result = kmeans_model.fit(X) #Model building"
      ],
      "execution_count": 5,
      "outputs": []
    },
    {
      "cell_type": "code",
      "metadata": {
        "id": "mQBGKRbcKiAh",
        "colab": {
          "base_uri": "https://localhost:8080/",
          "height": 204
        },
        "outputId": "a0af0649-079f-4031-ee79-92947d2b5fce"
      },
      "source": [
        "labels = kmeans_result.predict(X)\n",
        "sup_market[\"Cluster_id\"]=labels\n",
        "sup_market.head()"
      ],
      "execution_count": 6,
      "outputs": [
        {
          "output_type": "execute_result",
          "data": {
            "text/html": [
              "<div>\n",
              "<style scoped>\n",
              "    .dataframe tbody tr th:only-of-type {\n",
              "        vertical-align: middle;\n",
              "    }\n",
              "\n",
              "    .dataframe tbody tr th {\n",
              "        vertical-align: top;\n",
              "    }\n",
              "\n",
              "    .dataframe thead th {\n",
              "        text-align: right;\n",
              "    }\n",
              "</style>\n",
              "<table border=\"1\" class=\"dataframe\">\n",
              "  <thead>\n",
              "    <tr style=\"text-align: right;\">\n",
              "      <th></th>\n",
              "      <th>cust_id</th>\n",
              "      <th>age</th>\n",
              "      <th>Estimated_income</th>\n",
              "      <th>recent_spends</th>\n",
              "      <th>family_size</th>\n",
              "      <th>Avg_visits_permonth</th>\n",
              "      <th>Cluster_id</th>\n",
              "    </tr>\n",
              "  </thead>\n",
              "  <tbody>\n",
              "    <tr>\n",
              "      <th>0</th>\n",
              "      <td>1</td>\n",
              "      <td>30</td>\n",
              "      <td>3300</td>\n",
              "      <td>771.572261</td>\n",
              "      <td>1</td>\n",
              "      <td>4</td>\n",
              "      <td>0</td>\n",
              "    </tr>\n",
              "    <tr>\n",
              "      <th>1</th>\n",
              "      <td>2</td>\n",
              "      <td>46</td>\n",
              "      <td>12454</td>\n",
              "      <td>128.922027</td>\n",
              "      <td>3</td>\n",
              "      <td>3</td>\n",
              "      <td>2</td>\n",
              "    </tr>\n",
              "    <tr>\n",
              "      <th>2</th>\n",
              "      <td>3</td>\n",
              "      <td>76</td>\n",
              "      <td>0</td>\n",
              "      <td>0.000000</td>\n",
              "      <td>1</td>\n",
              "      <td>8</td>\n",
              "      <td>0</td>\n",
              "    </tr>\n",
              "    <tr>\n",
              "      <th>3</th>\n",
              "      <td>4</td>\n",
              "      <td>38</td>\n",
              "      <td>3000</td>\n",
              "      <td>76.967031</td>\n",
              "      <td>3</td>\n",
              "      <td>3</td>\n",
              "      <td>0</td>\n",
              "    </tr>\n",
              "    <tr>\n",
              "      <th>4</th>\n",
              "      <td>5</td>\n",
              "      <td>39</td>\n",
              "      <td>2500</td>\n",
              "      <td>2499.999750</td>\n",
              "      <td>1</td>\n",
              "      <td>1</td>\n",
              "      <td>0</td>\n",
              "    </tr>\n",
              "  </tbody>\n",
              "</table>\n",
              "</div>"
            ],
            "text/plain": [
              "   cust_id  age  Estimated_income  ...  family_size  Avg_visits_permonth  Cluster_id\n",
              "0        1   30              3300  ...            1                    4           0\n",
              "1        2   46             12454  ...            3                    3           2\n",
              "2        3   76                 0  ...            1                    8           0\n",
              "3        4   38              3000  ...            3                    3           0\n",
              "4        5   39              2500  ...            1                    1           0\n",
              "\n",
              "[5 rows x 7 columns]"
            ]
          },
          "metadata": {
            "tags": []
          },
          "execution_count": 6
        }
      ]
    },
    {
      "cell_type": "markdown",
      "metadata": {
        "id": "rEylJbS8Kx9C"
      },
      "source": [
        "# Output Inference"
      ]
    },
    {
      "cell_type": "code",
      "metadata": {
        "id": "1Mlt2yuhKpXl",
        "colab": {
          "base_uri": "https://localhost:8080/"
        },
        "outputId": "f69ded6b-7d5a-4114-85c7-3f794b67230b"
      },
      "source": [
        "cluster_counts=sup_market.groupby(['Cluster_id']).count()\n",
        "pd.set_option('display.max_columns', None) #This option displays all the columns \n",
        "print(\"cluster_counts \\n\", cluster_counts)"
      ],
      "execution_count": 7,
      "outputs": [
        {
          "output_type": "stream",
          "text": [
            "cluster_counts \n",
            "             cust_id   age  Estimated_income  recent_spends  family_size  \\\n",
            "Cluster_id                                                                \n",
            "0              1214  1214              1214           1214         1214   \n",
            "1                45    45                45             45           45   \n",
            "2               513   513               513            513          513   \n",
            "3                 3     3                 3              3            3   \n",
            "4              1225  1225              1225           1225         1225   \n",
            "\n",
            "            Avg_visits_permonth  \n",
            "Cluster_id                       \n",
            "0                          1214  \n",
            "1                            45  \n",
            "2                           513  \n",
            "3                             3  \n",
            "4                          1225  \n"
          ],
          "name": "stdout"
        }
      ]
    },
    {
      "cell_type": "code",
      "metadata": {
        "id": "0lsl2r54K4Xg",
        "colab": {
          "base_uri": "https://localhost:8080/"
        },
        "outputId": "d72e4787-c9ce-49c1-bcb7-b98f918a5d75"
      },
      "source": [
        "pd.set_option('display.max_columns', None) #This option displays all the columns \n",
        "cluster_means=sup_market.groupby(['Cluster_id']).mean()\n",
        "print(\"cluster_means \\n\", cluster_means)"
      ],
      "execution_count": 8,
      "outputs": [
        {
          "output_type": "stream",
          "text": [
            "cluster_means \n",
            "                 cust_id        age  Estimated_income  recent_spends  \\\n",
            "Cluster_id                                                            \n",
            "0           1503.797364  52.914333       1048.611203     309.062620   \n",
            "1           1790.422222  53.200000      26516.044444   10084.835548   \n",
            "2           1482.538012  52.904483      11515.925926    3196.273437   \n",
            "3           2315.000000  52.000000     101864.333333   10441.193440   \n",
            "4           1492.109388  51.432653       5593.964898    1629.478909   \n",
            "\n",
            "            family_size  Avg_visits_permonth  \n",
            "Cluster_id                                    \n",
            "0              1.428336             5.626030  \n",
            "1              2.400000             5.800000  \n",
            "2              2.138402             5.360624  \n",
            "3              4.000000             8.333333  \n",
            "4              1.818776             5.508571  \n"
          ],
          "name": "stdout"
        }
      ]
    },
    {
      "cell_type": "code",
      "metadata": {
        "id": "Ec4CKCPlLAzA",
        "colab": {
          "base_uri": "https://localhost:8080/"
        },
        "outputId": "488e53cc-3c2d-48a1-e16b-a8184d3c1ecd"
      },
      "source": [
        "#The Final Target population\n",
        "target_data=sup_market[(sup_market[\"Cluster_id\"]==1) | (sup_market[\"Cluster_id\"]==3)]\n",
        "print(target_data.shape)"
      ],
      "execution_count": 9,
      "outputs": [
        {
          "output_type": "stream",
          "text": [
            "(48, 7)\n"
          ],
          "name": "stdout"
        }
      ]
    }
  ]
}